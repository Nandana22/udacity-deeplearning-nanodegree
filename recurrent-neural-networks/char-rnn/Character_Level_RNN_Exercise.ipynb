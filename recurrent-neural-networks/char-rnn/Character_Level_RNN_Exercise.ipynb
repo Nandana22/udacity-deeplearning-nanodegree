{
  "nbformat": 4,
  "nbformat_minor": 0,
  "metadata": {
    "colab": {
      "name": "Character_Level_RNN_Exercise.ipynb",
      "version": "0.3.2",
      "provenance": []
    },
    "kernelspec": {
      "name": "python3",
      "display_name": "Python 3"
    },
    "accelerator": "GPU"
  },
  "cells": [
    {
      "metadata": {
        "id": "lGtZHHhM7I18",
        "colab_type": "text"
      },
      "cell_type": "markdown",
      "source": [
        "# Character-Level LSTM in PyTorch\n",
        "\n",
        "In this notebook, I'll construct a character-level LSTM with PyTorch. The network will train character by character on some text, then generate new text character by character. As an example, I will train on Anna Karenina. **This model will be able to generate new text based on the text from the book!**\n",
        "\n",
        "This network is based off of Andrej Karpathy's [post on RNNs](http://karpathy.github.io/2015/05/21/rnn-effectiveness/) and [implementation in Torch](https://github.com/karpathy/char-rnn). Below is the general architecture of the character-wise RNN.\n",
        "\n",
        "<img src=\"https://github.com/silviomori/udacity-deeplearning-nanodegree-fork/blob/master/recurrent-neural-networks/char-rnn/assets/charseq.jpeg?raw=1\" width=\"500\">"
      ]
    },
    {
      "metadata": {
        "id": "sdwsYo_N7Vjh",
        "colab_type": "code",
        "colab": {}
      },
      "cell_type": "code",
      "source": [
        "!wget -q https://raw.githubusercontent.com/udacity/deep-learning-v2-pytorch/master/recurrent-neural-networks/char-rnn/data/anna.txt data -P ./data"
      ],
      "execution_count": 0,
      "outputs": []
    },
    {
      "metadata": {
        "id": "eMIjC4DU7I1-",
        "colab_type": "text"
      },
      "cell_type": "markdown",
      "source": [
        "First let's load in our required resources for data loading and model creation."
      ]
    },
    {
      "metadata": {
        "id": "oVzs7bC07I1_",
        "colab_type": "code",
        "colab": {}
      },
      "cell_type": "code",
      "source": [
        "import numpy as np\n",
        "import torch\n",
        "from torch import nn\n",
        "import torch.nn.functional as F"
      ],
      "execution_count": 0,
      "outputs": []
    },
    {
      "metadata": {
        "id": "qntiAchU7I2D",
        "colab_type": "text"
      },
      "cell_type": "markdown",
      "source": [
        "## Load in Data\n",
        "\n",
        "Then, we'll load the Anna Karenina text file and convert it into integers for our network to use. "
      ]
    },
    {
      "metadata": {
        "id": "WzE5ZpJW7I2E",
        "colab_type": "code",
        "colab": {}
      },
      "cell_type": "code",
      "source": [
        "# open text file and read in data as `text`\n",
        "with open('data/anna.txt', 'r') as f:\n",
        "    text = f.read()"
      ],
      "execution_count": 0,
      "outputs": []
    },
    {
      "metadata": {
        "id": "YLGX8fgG7I2H",
        "colab_type": "text"
      },
      "cell_type": "markdown",
      "source": [
        "Let's check out the first 100 characters, make sure everything is peachy. According to the [American Book Review](http://americanbookreview.org/100bestlines.asp), this is the 6th best first line of a book ever."
      ]
    },
    {
      "metadata": {
        "id": "F9iittn07I2I",
        "colab_type": "code",
        "colab": {
          "base_uri": "https://localhost:8080/",
          "height": 34
        },
        "outputId": "296ccfea-d129-4f5c-d623-4c758674a28e"
      },
      "cell_type": "code",
      "source": [
        "text[:100]"
      ],
      "execution_count": 4,
      "outputs": [
        {
          "output_type": "execute_result",
          "data": {
            "text/plain": [
              "'Chapter 1\\n\\n\\nHappy families are all alike; every unhappy family is unhappy in its own\\nway.\\n\\nEverythin'"
            ]
          },
          "metadata": {
            "tags": []
          },
          "execution_count": 4
        }
      ]
    },
    {
      "metadata": {
        "id": "ZUXbio8E7I2N",
        "colab_type": "text"
      },
      "cell_type": "markdown",
      "source": [
        "### Tokenization\n",
        "\n",
        "In the cells, below, I'm creating a couple **dictionaries** to convert the characters to and from integers. Encoding the characters as integers makes it easier to use as input in the network."
      ]
    },
    {
      "metadata": {
        "id": "A0UsOJmR7I2O",
        "colab_type": "code",
        "colab": {}
      },
      "cell_type": "code",
      "source": [
        "# encode the text and map each character to an integer and vice versa\n",
        "\n",
        "# we create two dictionaries:\n",
        "# 1. int2char, which maps integers to characters\n",
        "# 2. char2int, which maps characters to unique integers\n",
        "chars = tuple(set(text))\n",
        "int2char = dict(enumerate(chars))\n",
        "char2int = {ch: ii for ii, ch in int2char.items()}\n",
        "\n",
        "# encode the text\n",
        "encoded = np.array([char2int[ch] for ch in text])"
      ],
      "execution_count": 0,
      "outputs": []
    },
    {
      "metadata": {
        "id": "-33az6MB7I2R",
        "colab_type": "text"
      },
      "cell_type": "markdown",
      "source": [
        "And we can see those same characters from above, encoded as integers."
      ]
    },
    {
      "metadata": {
        "id": "wfQVorGw7I2S",
        "colab_type": "code",
        "colab": {
          "base_uri": "https://localhost:8080/",
          "height": 123
        },
        "outputId": "54b8f769-4b65-41a5-a774-b473fd4def60"
      },
      "cell_type": "code",
      "source": [
        "encoded[:100]"
      ],
      "execution_count": 6,
      "outputs": [
        {
          "output_type": "execute_result",
          "data": {
            "text/plain": [
              "array([41, 70,  4, 21, 46, 74,  9,  0, 81, 51, 51, 51, 20,  4, 21, 21,  1,\n",
              "        0,  5,  4, 18, 27, 37, 27, 74, 73,  0,  4,  9, 74,  0,  4, 37, 37,\n",
              "        0,  4, 37, 27, 65, 74, 61,  0, 74, 42, 74,  9,  1,  0, 10,  6, 70,\n",
              "        4, 21, 21,  1,  0,  5,  4, 18, 27, 37,  1,  0, 27, 73,  0, 10,  6,\n",
              "       70,  4, 21, 21,  1,  0, 27,  6,  0, 27, 46, 73,  0, 45, 53,  6, 51,\n",
              "       53,  4,  1, 22, 51, 51, 64, 42, 74,  9,  1, 46, 70, 27,  6])"
            ]
          },
          "metadata": {
            "tags": []
          },
          "execution_count": 6
        }
      ]
    },
    {
      "metadata": {
        "id": "FEcH6bNE7I2W",
        "colab_type": "text"
      },
      "cell_type": "markdown",
      "source": [
        "## Pre-processing the data\n",
        "\n",
        "As you can see in our char-RNN image above, our LSTM expects an input that is **one-hot encoded** meaning that each character is converted into an integer (via our created dictionary) and *then* converted into a column vector where only it's corresponding integer index will have the value of 1 and the rest of the vector will be filled with 0's. Since we're one-hot encoding the data, let's make a function to do that!\n"
      ]
    },
    {
      "metadata": {
        "id": "oG23u5-a7I2X",
        "colab_type": "code",
        "colab": {}
      },
      "cell_type": "code",
      "source": [
        "def one_hot_encode(arr, n_labels):\n",
        "    \n",
        "    # Initialize the the encoded array\n",
        "    one_hot = np.zeros((np.multiply(*arr.shape), n_labels), dtype=np.float32)\n",
        "    \n",
        "    # Fill the appropriate elements with ones\n",
        "    one_hot[np.arange(one_hot.shape[0]), arr.flatten()] = 1.\n",
        "    \n",
        "    # Finally reshape it to get back to the original array\n",
        "    one_hot = one_hot.reshape((*arr.shape, n_labels))\n",
        "    \n",
        "    return one_hot"
      ],
      "execution_count": 0,
      "outputs": []
    },
    {
      "metadata": {
        "id": "ycQPcIjm7I2b",
        "colab_type": "code",
        "colab": {
          "base_uri": "https://localhost:8080/",
          "height": 70
        },
        "outputId": "b41bab7c-0112-4bdb-a390-823b3ce516e1"
      },
      "cell_type": "code",
      "source": [
        "# check that the function works as expected\n",
        "test_seq = np.array([[3, 5, 1]])\n",
        "one_hot = one_hot_encode(test_seq, 8)\n",
        "\n",
        "print(one_hot)"
      ],
      "execution_count": 8,
      "outputs": [
        {
          "output_type": "stream",
          "text": [
            "[[[0. 0. 0. 1. 0. 0. 0. 0.]\n",
            "  [0. 0. 0. 0. 0. 1. 0. 0.]\n",
            "  [0. 1. 0. 0. 0. 0. 0. 0.]]]\n"
          ],
          "name": "stdout"
        }
      ]
    },
    {
      "metadata": {
        "id": "TicW1slF7I2f",
        "colab_type": "text"
      },
      "cell_type": "markdown",
      "source": [
        "## Making training mini-batches\n",
        "\n",
        "\n",
        "To train on this data, we also want to create mini-batches for training. Remember that we want our batches to be multiple sequences of some desired number of sequence steps. Considering a simple example, our batches would look like this:\n",
        "\n",
        "<img src=\"https://github.com/silviomori/udacity-deeplearning-nanodegree-fork/blob/master/recurrent-neural-networks/char-rnn/assets/sequence_batching@1x.png?raw=1\" width=500px>\n",
        "\n",
        "\n",
        "<br>\n",
        "\n",
        "In this example, we'll take the encoded characters (passed in as the `arr` parameter) and split them into multiple sequences, given by `batch_size`. Each of our sequences will be `seq_length` long.\n",
        "\n",
        "### Creating Batches\n",
        "\n",
        "**1. The first thing we need to do is discard some of the text so we only have completely full mini-batches. **\n",
        "\n",
        "Each batch contains $N \\times M$ characters, where $N$ is the batch size (the number of sequences in a batch) and $M$ is the seq_length or number of time steps in a sequence. Then, to get the total number of batches, $K$, that we can make from the array `arr`, you divide the length of `arr` by the number of characters per batch. Once you know the number of batches, you can get the total number of characters to keep from `arr`, $N * M * K$.\n",
        "\n",
        "**2. After that, we need to split `arr` into $N$ batches. ** \n",
        "\n",
        "You can do this using `arr.reshape(size)` where `size` is a tuple containing the dimensions sizes of the reshaped array. We know we want $N$ sequences in a batch, so let's make that the size of the first dimension. For the second dimension, you can use `-1` as a placeholder in the size, it'll fill up the array with the appropriate data for you. After this, you should have an array that is $N \\times (M * K)$.\n",
        "\n",
        "**3. Now that we have this array, we can iterate through it to get our mini-batches. **\n",
        "\n",
        "The idea is each batch is a $N \\times M$ window on the $N \\times (M * K)$ array. For each subsequent batch, the window moves over by `seq_length`. We also want to create both the input and target arrays. Remember that the targets are just the inputs shifted over by one character. The way I like to do this window is use `range` to take steps of size `n_steps` from $0$ to `arr.shape[1]`, the total number of tokens in each sequence. That way, the integers you get from `range` always point to the start of a batch, and each window is `seq_length` wide.\n",
        "\n",
        "> **TODO:** Write the code for creating batches in the function below. The exercises in this notebook _will not be easy_. I've provided a notebook with solutions alongside this notebook. If you get stuck, checkout the solutions. The most important thing is that you don't copy and paste the code into here, **type out the solution code yourself.**"
      ]
    },
    {
      "metadata": {
        "id": "pLcHiNgh7I2g",
        "colab_type": "code",
        "colab": {}
      },
      "cell_type": "code",
      "source": [
        "def get_batches(arr, batch_size, seq_length):\n",
        "    '''Create a generator that returns batches of size\n",
        "       batch_size x seq_length from arr.\n",
        "       \n",
        "       Arguments\n",
        "       ---------\n",
        "       arr: Array you want to make batches from\n",
        "       batch_size: Batch size, the number of sequences per batch\n",
        "       seq_length: Number of encoded chars in a sequence\n",
        "    '''\n",
        "    \n",
        "    ## DONE: Get the number of batches we can make\n",
        "    n_batches = len(arr) // (batch_size * seq_length)\n",
        "    \n",
        "    ## DONE: Keep only enough characters to make full batches\n",
        "    number_of_characteres = n_batches * batch_size * seq_length\n",
        "    arr = arr[0: number_of_characteres]\n",
        "    \n",
        "    ## DONE: Reshape into batch_size rows\n",
        "    arr = arr.reshape(batch_size, -1)\n",
        "    \n",
        "    ## DONE: Iterate over the batches using a window of size seq_length\n",
        "    for n in range(0, arr.shape[1], seq_length):\n",
        "        # The features\n",
        "        x = arr[:, n:n+seq_length]\n",
        "        \n",
        "        # The targets, shifted by one\n",
        "        y = np.zeros_like(x)\n",
        "        try:\n",
        "            y[:, :-1], y[:, -1] = x[:, 1:], arr[:, n+seq_length]\n",
        "        except:\n",
        "            y[:, :-1], y[:, -1] = x[:, 1:], arr[:, 0]\n",
        "        \n",
        "        yield x, y"
      ],
      "execution_count": 0,
      "outputs": []
    },
    {
      "metadata": {
        "id": "gK-TqdRr7I2j",
        "colab_type": "text"
      },
      "cell_type": "markdown",
      "source": [
        "### Test Your Implementation\n",
        "\n",
        "Now I'll make some data sets and we can check out what's going on as we batch data. Here, as an example, I'm going to use a batch size of 8 and 50 sequence steps."
      ]
    },
    {
      "metadata": {
        "id": "1eCJKsXi7I2k",
        "colab_type": "code",
        "colab": {}
      },
      "cell_type": "code",
      "source": [
        "batches = get_batches(encoded, 8, 50)\n",
        "x, y = next(batches)"
      ],
      "execution_count": 0,
      "outputs": []
    },
    {
      "metadata": {
        "id": "D465OsmK7I2n",
        "colab_type": "code",
        "colab": {
          "base_uri": "https://localhost:8080/",
          "height": 354
        },
        "outputId": "01dc8588-e5ad-47f9-9ca0-b60b243727f2"
      },
      "cell_type": "code",
      "source": [
        "# printing out the first 10 items in a sequence\n",
        "print('x\\n', x[:10, :10])\n",
        "print('\\ny\\n', y[:10, :10])"
      ],
      "execution_count": 11,
      "outputs": [
        {
          "output_type": "stream",
          "text": [
            "x\n",
            " [[41 70  4 21 46 74  9  0 81 51]\n",
            " [73 45  6  0 46 70  4 46  0  4]\n",
            " [74  6 49  0 45  9  0  4  0  5]\n",
            " [73  0 46 70 74  0 62 70 27 74]\n",
            " [ 0 73  4 53  0 70 74  9  0 46]\n",
            " [62 10 73 73 27 45  6  0  4  6]\n",
            " [ 0 54  6  6  4  0 70  4 49  0]\n",
            " [23 12 37 45  6 73 65  1 22  0]]\n",
            "\n",
            "y\n",
            " [[70  4 21 46 74  9  0 81 51 51]\n",
            " [45  6  0 46 70  4 46  0  4 46]\n",
            " [ 6 49  0 45  9  0  4  0  5 45]\n",
            " [ 0 46 70 74  0 62 70 27 74  5]\n",
            " [73  4 53  0 70 74  9  0 46 74]\n",
            " [10 73 73 27 45  6  0  4  6 49]\n",
            " [54  6  6  4  0 70  4 49  0 73]\n",
            " [12 37 45  6 73 65  1 22  0 77]]\n"
          ],
          "name": "stdout"
        }
      ]
    },
    {
      "metadata": {
        "id": "dZI6lcfU7I2s",
        "colab_type": "text"
      },
      "cell_type": "markdown",
      "source": [
        "If you implemented `get_batches` correctly, the above output should look something like \n",
        "```\n",
        "x\n",
        " [[25  8 60 11 45 27 28 73  1  2]\n",
        " [17  7 20 73 45  8 60 45 73 60]\n",
        " [27 20 80 73  7 28 73 60 73 65]\n",
        " [17 73 45  8 27 73 66  8 46 27]\n",
        " [73 17 60 12 73  8 27 28 73 45]\n",
        " [66 64 17 17 46  7 20 73 60 20]\n",
        " [73 76 20 20 60 73  8 60 80 73]\n",
        " [47 35 43  7 20 17 24 50 37 73]]\n",
        "\n",
        "y\n",
        " [[ 8 60 11 45 27 28 73  1  2  2]\n",
        " [ 7 20 73 45  8 60 45 73 60 45]\n",
        " [20 80 73  7 28 73 60 73 65  7]\n",
        " [73 45  8 27 73 66  8 46 27 65]\n",
        " [17 60 12 73  8 27 28 73 45 27]\n",
        " [64 17 17 46  7 20 73 60 20 80]\n",
        " [76 20 20 60 73  8 60 80 73 17]\n",
        " [35 43  7 20 17 24 50 37 73 36]]\n",
        " ```\n",
        " although the exact numbers may be different. Check to make sure the data is shifted over one step for `y`."
      ]
    },
    {
      "metadata": {
        "id": "ELXOjE6C7I2t",
        "colab_type": "text"
      },
      "cell_type": "markdown",
      "source": [
        "---\n",
        "## Defining the network with PyTorch\n",
        "\n",
        "Below is where you'll define the network.\n",
        "\n",
        "<img src=\"https://github.com/silviomori/udacity-deeplearning-nanodegree-fork/blob/master/recurrent-neural-networks/char-rnn/assets/charRNN.png?raw=1\" width=500px>\n",
        "\n",
        "Next, you'll use PyTorch to define the architecture of the network. We start by defining the layers and operations we want. Then, define a method for the forward pass. You've also been given a method for predicting characters."
      ]
    },
    {
      "metadata": {
        "id": "MnWwXOzm7I2u",
        "colab_type": "text"
      },
      "cell_type": "markdown",
      "source": [
        "### Model Structure\n",
        "\n",
        "In `__init__` the suggested structure is as follows:\n",
        "* Create and store the necessary dictionaries (this has been done for you)\n",
        "* Define an LSTM layer that takes as params: an input size (the number of characters), a hidden layer size `n_hidden`, a number of layers `n_layers`, a dropout probability `drop_prob`, and a batch_first boolean (True, since we are batching)\n",
        "* Define a dropout layer with `drop_prob`\n",
        "* Define a fully-connected layer with params: input size `n_hidden` and output size (the number of characters)\n",
        "* Finally, initialize the weights (again, this has been given)\n",
        "\n",
        "Note that some parameters have been named and given in the `__init__` function, and we use them and store them by doing something like `self.drop_prob = drop_prob`."
      ]
    },
    {
      "metadata": {
        "id": "OyREancA7I2v",
        "colab_type": "text"
      },
      "cell_type": "markdown",
      "source": [
        "---\n",
        "### LSTM Inputs/Outputs\n",
        "\n",
        "You can create a basic [LSTM layer](https://pytorch.org/docs/stable/nn.html#lstm) as follows\n",
        "\n",
        "```python\n",
        "self.lstm = nn.LSTM(input_size, n_hidden, n_layers, \n",
        "                            dropout=drop_prob, batch_first=True)\n",
        "```\n",
        "\n",
        "where `input_size` is the number of characters this cell expects to see as sequential input, and `n_hidden` is the number of units in the hidden layers in the cell. And we can add dropout by adding a dropout parameter with a specified probability; this will automatically add dropout to the inputs or outputs. Finally, in the `forward` function, we can stack up the LSTM cells into layers using `.view`. With this, you pass in a list of cells and it will send the output of one cell into the next cell.\n",
        "\n",
        "We also need to create an initial hidden state of all zeros. This is done like so\n",
        "\n",
        "```python\n",
        "self.init_hidden()\n",
        "```"
      ]
    },
    {
      "metadata": {
        "id": "5AsUR6ta7I2w",
        "colab_type": "code",
        "colab": {
          "base_uri": "https://localhost:8080/",
          "height": 34
        },
        "outputId": "8bab3663-5522-44c5-d22f-ca957d3b2310"
      },
      "cell_type": "code",
      "source": [
        "# check if GPU is available\n",
        "train_on_gpu = torch.cuda.is_available()\n",
        "if(train_on_gpu):\n",
        "    print('Training on GPU!')\n",
        "else: \n",
        "    print('No GPU available, training on CPU; consider making n_epochs very small.')"
      ],
      "execution_count": 12,
      "outputs": [
        {
          "output_type": "stream",
          "text": [
            "Training on GPU!\n"
          ],
          "name": "stdout"
        }
      ]
    },
    {
      "metadata": {
        "id": "KkjespsD7I20",
        "colab_type": "code",
        "colab": {}
      },
      "cell_type": "code",
      "source": [
        "class CharRNN(nn.Module):\n",
        "    \n",
        "    def __init__(self, tokens, n_hidden=256, n_layers=2,\n",
        "                               drop_prob=0.5, lr=0.001):\n",
        "        super().__init__()\n",
        "        self.drop_prob = drop_prob\n",
        "        self.n_layers = n_layers\n",
        "        self.n_hidden = n_hidden\n",
        "        self.lr = lr\n",
        "        \n",
        "        # creating character dictionaries\n",
        "        self.chars = tokens\n",
        "        self.int2char = dict(enumerate(self.chars))\n",
        "        self.char2int = {ch: ii for ii, ch in self.int2char.items()}\n",
        "        \n",
        "        ## DONE: define the layers of the model\n",
        "        # Define the LSTM layers\n",
        "        self.lstm = nn.LSTM(input_size=len(self.chars), hidden_size=n_hidden,\n",
        "                            num_layers=n_layers, batch_first=True, dropout=drop_prob)\n",
        "        \n",
        "        # Define the dropout\n",
        "        self.dropout = nn.Dropout(drop_prob)\n",
        "        \n",
        "        # Define the Fully Connected layer\n",
        "        self.fc = nn.Linear(n_hidden, len(tokens))\n",
        "        \n",
        "    def forward(self, x, hidden):\n",
        "        ''' Forward pass through the network. \n",
        "            These inputs are x, and the hidden/cell state `hidden`. '''\n",
        "                \n",
        "        ## DONE: Get the outputs and the new hidden state from the lstm\n",
        "        x, hidden = self.lstm(x, hidden)\n",
        "        \n",
        "        x = self.dropout(x)\n",
        "        \n",
        "        x = x.contiguous().view(-1, self.n_hidden)\n",
        "        \n",
        "        out = self.fc(x)\n",
        "        \n",
        "        # return the final output and the hidden state\n",
        "        return out, hidden\n",
        "    \n",
        "    \n",
        "    def init_hidden(self, batch_size):\n",
        "        ''' Initializes hidden state '''\n",
        "        # Create two new tensors with sizes n_layers x batch_size x n_hidden,\n",
        "        # initialized to zero, for hidden state and cell state of LSTM\n",
        "        weight = next(self.parameters()).data\n",
        "        \n",
        "        if (train_on_gpu):\n",
        "            hidden = (weight.new(self.n_layers, batch_size, self.n_hidden).zero_().cuda(),\n",
        "                  weight.new(self.n_layers, batch_size, self.n_hidden).zero_().cuda())\n",
        "        else:\n",
        "            hidden = (weight.new(self.n_layers, batch_size, self.n_hidden).zero_(),\n",
        "                      weight.new(self.n_layers, batch_size, self.n_hidden).zero_())\n",
        "        \n",
        "        return hidden\n",
        "        "
      ],
      "execution_count": 0,
      "outputs": []
    },
    {
      "metadata": {
        "id": "U8Pm_YaJ7I24",
        "colab_type": "text"
      },
      "cell_type": "markdown",
      "source": [
        "## Time to train\n",
        "\n",
        "The train function gives us the ability to set the number of epochs, the learning rate, and other parameters.\n",
        "\n",
        "Below we're using an Adam optimizer and cross entropy loss since we are looking at character class scores as output. We calculate the loss and perform backpropagation, as usual!\n",
        "\n",
        "A couple of details about training: \n",
        ">* Within the batch loop, we detach the hidden state from its history; this time setting it equal to a new *tuple* variable because an LSTM has a hidden state that is a tuple of the hidden and cell states.\n",
        "* We use [`clip_grad_norm_`](https://pytorch.org/docs/stable/_modules/torch/nn/utils/clip_grad.html) to help prevent exploding gradients."
      ]
    },
    {
      "metadata": {
        "id": "WR-dMSGZ7I25",
        "colab_type": "code",
        "colab": {}
      },
      "cell_type": "code",
      "source": [
        "def train(net, data, epochs=10, batch_size=10, seq_length=50, lr=0.001, clip=5, val_frac=0.1, print_every=10):\n",
        "    ''' Training a network \n",
        "    \n",
        "        Arguments\n",
        "        ---------\n",
        "        \n",
        "        net: CharRNN network\n",
        "        data: text data to train the network\n",
        "        epochs: Number of epochs to train\n",
        "        batch_size: Number of mini-sequences per mini-batch, aka batch size\n",
        "        seq_length: Number of character steps per mini-batch\n",
        "        lr: learning rate\n",
        "        clip: gradient clipping\n",
        "        val_frac: Fraction of data to hold out for validation\n",
        "        print_every: Number of steps for printing training and validation loss\n",
        "    \n",
        "    '''\n",
        "    net.train()\n",
        "    \n",
        "    opt = torch.optim.Adam(net.parameters(), lr=lr)\n",
        "    criterion = nn.CrossEntropyLoss()\n",
        "    \n",
        "    # create training and validation data\n",
        "    val_idx = int(len(data)*(1-val_frac))\n",
        "    data, val_data = data[:val_idx], data[val_idx:]\n",
        "    \n",
        "    if(train_on_gpu):\n",
        "        net.cuda()\n",
        "    \n",
        "    counter = 0\n",
        "    n_chars = len(net.chars)\n",
        "    for e in range(epochs):\n",
        "        # initialize hidden state\n",
        "        h = net.init_hidden(batch_size)\n",
        "        \n",
        "        for x, y in get_batches(data, batch_size, seq_length):\n",
        "            counter += 1\n",
        "            \n",
        "            # One-hot encode our data and make them Torch tensors\n",
        "            x = one_hot_encode(x, n_chars)\n",
        "            inputs, targets = torch.from_numpy(x), torch.from_numpy(y)\n",
        "            \n",
        "            if(train_on_gpu):\n",
        "                inputs, targets = inputs.cuda(), targets.cuda()\n",
        "\n",
        "            # Creating new variables for the hidden state, otherwise\n",
        "            # we'd backprop through the entire training history\n",
        "            h = tuple([each.data for each in h])\n",
        "\n",
        "            # zero accumulated gradients\n",
        "            net.zero_grad()\n",
        "            \n",
        "            # get the output from the model\n",
        "            output, h = net(inputs, h)\n",
        "            \n",
        "            # calculate the loss and perform backprop\n",
        "            loss = criterion(output, targets.view(batch_size*seq_length).long())\n",
        "            loss.backward()\n",
        "            # `clip_grad_norm` helps prevent the exploding gradient problem in RNNs / LSTMs.\n",
        "            nn.utils.clip_grad_norm_(net.parameters(), clip)\n",
        "            opt.step()\n",
        "            \n",
        "            # loss stats\n",
        "            if counter % print_every == 0:\n",
        "                # Get validation loss\n",
        "                val_h = net.init_hidden(batch_size)\n",
        "                val_losses = []\n",
        "                net.eval()\n",
        "                for x, y in get_batches(val_data, batch_size, seq_length):\n",
        "                    # One-hot encode our data and make them Torch tensors\n",
        "                    x = one_hot_encode(x, n_chars)\n",
        "                    x, y = torch.from_numpy(x), torch.from_numpy(y)\n",
        "                    \n",
        "                    # Creating new variables for the hidden state, otherwise\n",
        "                    # we'd backprop through the entire training history\n",
        "                    val_h = tuple([each.data for each in val_h])\n",
        "                    \n",
        "                    inputs, targets = x, y\n",
        "                    if(train_on_gpu):\n",
        "                        inputs, targets = inputs.cuda(), targets.cuda()\n",
        "\n",
        "                    output, val_h = net(inputs, val_h)\n",
        "                    val_loss = criterion(output, targets.view(batch_size*seq_length).long())\n",
        "                \n",
        "                    val_losses.append(val_loss.item())\n",
        "                \n",
        "                net.train() # reset to train mode after iterationg through validation data\n",
        "                \n",
        "                print(\"Epoch: {}/{}...\".format(e+1, epochs),\n",
        "                      \"Step: {}...\".format(counter),\n",
        "                      \"Loss: {:.4f}...\".format(loss.item()),\n",
        "                      \"Val Loss: {:.4f}\".format(np.mean(val_losses)))"
      ],
      "execution_count": 0,
      "outputs": []
    },
    {
      "metadata": {
        "id": "zOm4LcCG7I28",
        "colab_type": "text"
      },
      "cell_type": "markdown",
      "source": [
        "## Instantiating the model\n",
        "\n",
        "Now we can actually train the network. First we'll create the network itself, with some given hyperparameters. Then, define the mini-batches sizes, and start training!"
      ]
    },
    {
      "metadata": {
        "id": "DzEoodVU7I2-",
        "colab_type": "code",
        "colab": {
          "base_uri": "https://localhost:8080/",
          "height": 105
        },
        "outputId": "c7f2fb36-5d4e-4292-89b0-b21e85022330"
      },
      "cell_type": "code",
      "source": [
        "## DONE: set you model hyperparameters\n",
        "# define and print the net\n",
        "n_hidden=1024\n",
        "n_layers=3\n",
        "\n",
        "net = CharRNN(chars, n_hidden, n_layers)\n",
        "print(net)"
      ],
      "execution_count": 15,
      "outputs": [
        {
          "output_type": "stream",
          "text": [
            "CharRNN(\n",
            "  (lstm): LSTM(83, 1024, num_layers=3, batch_first=True, dropout=0.5)\n",
            "  (dropout): Dropout(p=0.5)\n",
            "  (fc): Linear(in_features=1024, out_features=83, bias=True)\n",
            ")\n"
          ],
          "name": "stdout"
        }
      ]
    },
    {
      "metadata": {
        "id": "ut0SlNel7I3B",
        "colab_type": "text"
      },
      "cell_type": "markdown",
      "source": [
        "### Set your training hyperparameters!"
      ]
    },
    {
      "metadata": {
        "scrolled": true,
        "id": "TsfWfxIw7I3C",
        "colab_type": "code",
        "colab": {
          "base_uri": "https://localhost:8080/",
          "height": 4958
        },
        "outputId": "e60da92f-ffde-45af-cc73-e811318d1c25"
      },
      "cell_type": "code",
      "source": [
        "batch_size = 128\n",
        "seq_length = 100\n",
        "n_epochs =  20 # start small if you are just testing initial behavior\n",
        "\n",
        "# train the model\n",
        "train(net, encoded, epochs=n_epochs, batch_size=batch_size, seq_length=seq_length, lr=0.001, print_every=10)"
      ],
      "execution_count": 16,
      "outputs": [
        {
          "output_type": "stream",
          "text": [
            "Epoch: 1/20... Step: 10... Loss: 3.1735... Val Loss: 3.1629\n",
            "Epoch: 1/20... Step: 20... Loss: 3.1247... Val Loss: 3.1366\n",
            "Epoch: 1/20... Step: 30... Loss: 3.1309... Val Loss: 3.1230\n",
            "Epoch: 1/20... Step: 40... Loss: 3.1050... Val Loss: 3.1214\n",
            "Epoch: 1/20... Step: 50... Loss: 3.1368... Val Loss: 3.1191\n",
            "Epoch: 1/20... Step: 60... Loss: 3.1114... Val Loss: 3.1176\n",
            "Epoch: 1/20... Step: 70... Loss: 3.1056... Val Loss: 3.1189\n",
            "Epoch: 1/20... Step: 80... Loss: 3.1253... Val Loss: 3.1180\n",
            "Epoch: 1/20... Step: 90... Loss: 3.1286... Val Loss: 3.1178\n",
            "Epoch: 1/20... Step: 100... Loss: 3.1214... Val Loss: 3.1179\n",
            "Epoch: 1/20... Step: 110... Loss: 3.1241... Val Loss: 3.1171\n",
            "Epoch: 1/20... Step: 120... Loss: 3.1048... Val Loss: 3.1153\n",
            "Epoch: 1/20... Step: 130... Loss: 3.1241... Val Loss: 3.1138\n",
            "Epoch: 2/20... Step: 140... Loss: 3.1141... Val Loss: 3.1093\n",
            "Epoch: 2/20... Step: 150... Loss: 3.1093... Val Loss: 3.0962\n",
            "Epoch: 2/20... Step: 160... Loss: 3.0513... Val Loss: 3.0424\n",
            "Epoch: 2/20... Step: 170... Loss: 2.9079... Val Loss: 2.9177\n",
            "Epoch: 2/20... Step: 180... Loss: 2.8388... Val Loss: 2.8402\n",
            "Epoch: 2/20... Step: 190... Loss: 2.7697... Val Loss: 2.7701\n",
            "Epoch: 2/20... Step: 200... Loss: 2.7177... Val Loss: 2.7133\n",
            "Epoch: 2/20... Step: 210... Loss: 2.6536... Val Loss: 2.6431\n",
            "Epoch: 2/20... Step: 220... Loss: 2.5607... Val Loss: 2.5566\n",
            "Epoch: 2/20... Step: 230... Loss: 2.4777... Val Loss: 2.4623\n",
            "Epoch: 2/20... Step: 240... Loss: 2.4103... Val Loss: 2.3873\n",
            "Epoch: 2/20... Step: 250... Loss: 2.3148... Val Loss: 2.3276\n",
            "Epoch: 2/20... Step: 260... Loss: 2.2769... Val Loss: 2.2864\n",
            "Epoch: 2/20... Step: 270... Loss: 2.2667... Val Loss: 2.2436\n",
            "Epoch: 3/20... Step: 280... Loss: 2.2435... Val Loss: 2.2123\n",
            "Epoch: 3/20... Step: 290... Loss: 2.1982... Val Loss: 2.1834\n",
            "Epoch: 3/20... Step: 300... Loss: 2.1650... Val Loss: 2.1467\n",
            "Epoch: 3/20... Step: 310... Loss: 2.1227... Val Loss: 2.1112\n",
            "Epoch: 3/20... Step: 320... Loss: 2.0752... Val Loss: 2.0781\n",
            "Epoch: 3/20... Step: 330... Loss: 2.0365... Val Loss: 2.0425\n",
            "Epoch: 3/20... Step: 340... Loss: 2.0478... Val Loss: 2.0090\n",
            "Epoch: 3/20... Step: 350... Loss: 2.0090... Val Loss: 1.9816\n",
            "Epoch: 3/20... Step: 360... Loss: 1.9223... Val Loss: 1.9483\n",
            "Epoch: 3/20... Step: 370... Loss: 1.9486... Val Loss: 1.9244\n",
            "Epoch: 3/20... Step: 380... Loss: 1.9145... Val Loss: 1.8938\n",
            "Epoch: 3/20... Step: 390... Loss: 1.8798... Val Loss: 1.8767\n",
            "Epoch: 3/20... Step: 400... Loss: 1.8217... Val Loss: 1.8460\n",
            "Epoch: 3/20... Step: 410... Loss: 1.8478... Val Loss: 1.8241\n",
            "Epoch: 4/20... Step: 420... Loss: 1.8184... Val Loss: 1.8061\n",
            "Epoch: 4/20... Step: 430... Loss: 1.8147... Val Loss: 1.7821\n",
            "Epoch: 4/20... Step: 440... Loss: 1.7857... Val Loss: 1.7632\n",
            "Epoch: 4/20... Step: 450... Loss: 1.7272... Val Loss: 1.7425\n",
            "Epoch: 4/20... Step: 460... Loss: 1.6951... Val Loss: 1.7297\n",
            "Epoch: 4/20... Step: 470... Loss: 1.7333... Val Loss: 1.7129\n",
            "Epoch: 4/20... Step: 480... Loss: 1.7021... Val Loss: 1.7072\n",
            "Epoch: 4/20... Step: 490... Loss: 1.7029... Val Loss: 1.6777\n",
            "Epoch: 4/20... Step: 500... Loss: 1.7026... Val Loss: 1.6652\n",
            "Epoch: 4/20... Step: 510... Loss: 1.6718... Val Loss: 1.6552\n",
            "Epoch: 4/20... Step: 520... Loss: 1.6673... Val Loss: 1.6433\n",
            "Epoch: 4/20... Step: 530... Loss: 1.6332... Val Loss: 1.6362\n",
            "Epoch: 4/20... Step: 540... Loss: 1.5951... Val Loss: 1.6209\n",
            "Epoch: 4/20... Step: 550... Loss: 1.6427... Val Loss: 1.5998\n",
            "Epoch: 5/20... Step: 560... Loss: 1.5954... Val Loss: 1.5917\n",
            "Epoch: 5/20... Step: 570... Loss: 1.5814... Val Loss: 1.5827\n",
            "Epoch: 5/20... Step: 580... Loss: 1.5735... Val Loss: 1.5703\n",
            "Epoch: 5/20... Step: 590... Loss: 1.5500... Val Loss: 1.5579\n",
            "Epoch: 5/20... Step: 600... Loss: 1.5484... Val Loss: 1.5553\n",
            "Epoch: 5/20... Step: 610... Loss: 1.5317... Val Loss: 1.5408\n",
            "Epoch: 5/20... Step: 620... Loss: 1.5334... Val Loss: 1.5358\n",
            "Epoch: 5/20... Step: 630... Loss: 1.5441... Val Loss: 1.5232\n",
            "Epoch: 5/20... Step: 640... Loss: 1.5080... Val Loss: 1.5164\n",
            "Epoch: 5/20... Step: 650... Loss: 1.5057... Val Loss: 1.5087\n",
            "Epoch: 5/20... Step: 660... Loss: 1.4797... Val Loss: 1.5005\n",
            "Epoch: 5/20... Step: 670... Loss: 1.4951... Val Loss: 1.4959\n",
            "Epoch: 5/20... Step: 680... Loss: 1.4901... Val Loss: 1.4878\n",
            "Epoch: 5/20... Step: 690... Loss: 1.4726... Val Loss: 1.4796\n",
            "Epoch: 6/20... Step: 700... Loss: 1.4829... Val Loss: 1.4738\n",
            "Epoch: 6/20... Step: 710... Loss: 1.4468... Val Loss: 1.4623\n",
            "Epoch: 6/20... Step: 720... Loss: 1.4427... Val Loss: 1.4594\n",
            "Epoch: 6/20... Step: 730... Loss: 1.4568... Val Loss: 1.4496\n",
            "Epoch: 6/20... Step: 740... Loss: 1.4266... Val Loss: 1.4503\n",
            "Epoch: 6/20... Step: 750... Loss: 1.4106... Val Loss: 1.4398\n",
            "Epoch: 6/20... Step: 760... Loss: 1.4515... Val Loss: 1.4389\n",
            "Epoch: 6/20... Step: 770... Loss: 1.4113... Val Loss: 1.4330\n",
            "Epoch: 6/20... Step: 780... Loss: 1.4116... Val Loss: 1.4331\n",
            "Epoch: 6/20... Step: 790... Loss: 1.3900... Val Loss: 1.4243\n",
            "Epoch: 6/20... Step: 800... Loss: 1.4104... Val Loss: 1.4203\n",
            "Epoch: 6/20... Step: 810... Loss: 1.3938... Val Loss: 1.4162\n",
            "Epoch: 6/20... Step: 820... Loss: 1.3570... Val Loss: 1.4105\n",
            "Epoch: 6/20... Step: 830... Loss: 1.3946... Val Loss: 1.4080\n",
            "Epoch: 7/20... Step: 840... Loss: 1.3577... Val Loss: 1.4052\n",
            "Epoch: 7/20... Step: 850... Loss: 1.3704... Val Loss: 1.3976\n",
            "Epoch: 7/20... Step: 860... Loss: 1.3542... Val Loss: 1.3913\n",
            "Epoch: 7/20... Step: 870... Loss: 1.3614... Val Loss: 1.3840\n",
            "Epoch: 7/20... Step: 880... Loss: 1.3666... Val Loss: 1.3873\n",
            "Epoch: 7/20... Step: 890... Loss: 1.3685... Val Loss: 1.3802\n",
            "Epoch: 7/20... Step: 900... Loss: 1.3594... Val Loss: 1.3802\n",
            "Epoch: 7/20... Step: 910... Loss: 1.3110... Val Loss: 1.3769\n",
            "Epoch: 7/20... Step: 920... Loss: 1.3415... Val Loss: 1.3744\n",
            "Epoch: 7/20... Step: 930... Loss: 1.3284... Val Loss: 1.3701\n",
            "Epoch: 7/20... Step: 940... Loss: 1.3275... Val Loss: 1.3678\n",
            "Epoch: 7/20... Step: 950... Loss: 1.3379... Val Loss: 1.3641\n",
            "Epoch: 7/20... Step: 960... Loss: 1.3502... Val Loss: 1.3599\n",
            "Epoch: 7/20... Step: 970... Loss: 1.3447... Val Loss: 1.3579\n",
            "Epoch: 8/20... Step: 980... Loss: 1.3114... Val Loss: 1.3545\n",
            "Epoch: 8/20... Step: 990... Loss: 1.3183... Val Loss: 1.3479\n",
            "Epoch: 8/20... Step: 1000... Loss: 1.3194... Val Loss: 1.3462\n",
            "Epoch: 8/20... Step: 1010... Loss: 1.3381... Val Loss: 1.3457\n",
            "Epoch: 8/20... Step: 1020... Loss: 1.3228... Val Loss: 1.3440\n",
            "Epoch: 8/20... Step: 1030... Loss: 1.2983... Val Loss: 1.3400\n",
            "Epoch: 8/20... Step: 1040... Loss: 1.3100... Val Loss: 1.3419\n",
            "Epoch: 8/20... Step: 1050... Loss: 1.2904... Val Loss: 1.3366\n",
            "Epoch: 8/20... Step: 1060... Loss: 1.2917... Val Loss: 1.3344\n",
            "Epoch: 8/20... Step: 1070... Loss: 1.2958... Val Loss: 1.3303\n",
            "Epoch: 8/20... Step: 1080... Loss: 1.2867... Val Loss: 1.3319\n",
            "Epoch: 8/20... Step: 1090... Loss: 1.2888... Val Loss: 1.3258\n",
            "Epoch: 8/20... Step: 1100... Loss: 1.2810... Val Loss: 1.3294\n",
            "Epoch: 8/20... Step: 1110... Loss: 1.2804... Val Loss: 1.3235\n",
            "Epoch: 9/20... Step: 1120... Loss: 1.2851... Val Loss: 1.3200\n",
            "Epoch: 9/20... Step: 1130... Loss: 1.2908... Val Loss: 1.3198\n",
            "Epoch: 9/20... Step: 1140... Loss: 1.2869... Val Loss: 1.3153\n",
            "Epoch: 9/20... Step: 1150... Loss: 1.3072... Val Loss: 1.3172\n",
            "Epoch: 9/20... Step: 1160... Loss: 1.2573... Val Loss: 1.3168\n",
            "Epoch: 9/20... Step: 1170... Loss: 1.2696... Val Loss: 1.3130\n",
            "Epoch: 9/20... Step: 1180... Loss: 1.2671... Val Loss: 1.3158\n",
            "Epoch: 9/20... Step: 1190... Loss: 1.2825... Val Loss: 1.3109\n",
            "Epoch: 9/20... Step: 1200... Loss: 1.2501... Val Loss: 1.3071\n",
            "Epoch: 9/20... Step: 1210... Loss: 1.2478... Val Loss: 1.3057\n",
            "Epoch: 9/20... Step: 1220... Loss: 1.2534... Val Loss: 1.3038\n",
            "Epoch: 9/20... Step: 1230... Loss: 1.2270... Val Loss: 1.3022\n",
            "Epoch: 9/20... Step: 1240... Loss: 1.2463... Val Loss: 1.3043\n",
            "Epoch: 9/20... Step: 1250... Loss: 1.2534... Val Loss: 1.2986\n",
            "Epoch: 10/20... Step: 1260... Loss: 1.2553... Val Loss: 1.3018\n",
            "Epoch: 10/20... Step: 1270... Loss: 1.2576... Val Loss: 1.2976\n",
            "Epoch: 10/20... Step: 1280... Loss: 1.2637... Val Loss: 1.2924\n",
            "Epoch: 10/20... Step: 1290... Loss: 1.2524... Val Loss: 1.2957\n",
            "Epoch: 10/20... Step: 1300... Loss: 1.2446... Val Loss: 1.2950\n",
            "Epoch: 10/20... Step: 1310... Loss: 1.2401... Val Loss: 1.2928\n",
            "Epoch: 10/20... Step: 1320... Loss: 1.2154... Val Loss: 1.2929\n",
            "Epoch: 10/20... Step: 1330... Loss: 1.2232... Val Loss: 1.2883\n",
            "Epoch: 10/20... Step: 1340... Loss: 1.2125... Val Loss: 1.2909\n",
            "Epoch: 10/20... Step: 1350... Loss: 1.2125... Val Loss: 1.2857\n",
            "Epoch: 10/20... Step: 1360... Loss: 1.2091... Val Loss: 1.2871\n",
            "Epoch: 10/20... Step: 1370... Loss: 1.2123... Val Loss: 1.2864\n",
            "Epoch: 10/20... Step: 1380... Loss: 1.2400... Val Loss: 1.2828\n",
            "Epoch: 10/20... Step: 1390... Loss: 1.2636... Val Loss: 1.2780\n",
            "Epoch: 11/20... Step: 1400... Loss: 1.2454... Val Loss: 1.2819\n",
            "Epoch: 11/20... Step: 1410... Loss: 1.2700... Val Loss: 1.2826\n",
            "Epoch: 11/20... Step: 1420... Loss: 1.2556... Val Loss: 1.2752\n",
            "Epoch: 11/20... Step: 1430... Loss: 1.2223... Val Loss: 1.2787\n",
            "Epoch: 11/20... Step: 1440... Loss: 1.2348... Val Loss: 1.2771\n",
            "Epoch: 11/20... Step: 1450... Loss: 1.1753... Val Loss: 1.2774\n",
            "Epoch: 11/20... Step: 1460... Loss: 1.2074... Val Loss: 1.2782\n",
            "Epoch: 11/20... Step: 1470... Loss: 1.1796... Val Loss: 1.2752\n",
            "Epoch: 11/20... Step: 1480... Loss: 1.2126... Val Loss: 1.2749\n",
            "Epoch: 11/20... Step: 1490... Loss: 1.1993... Val Loss: 1.2708\n",
            "Epoch: 11/20... Step: 1500... Loss: 1.1899... Val Loss: 1.2732\n",
            "Epoch: 11/20... Step: 1510... Loss: 1.1712... Val Loss: 1.2739\n",
            "Epoch: 11/20... Step: 1520... Loss: 1.2016... Val Loss: 1.2694\n",
            "Epoch: 12/20... Step: 1530... Loss: 1.2778... Val Loss: 1.2635\n",
            "Epoch: 12/20... Step: 1540... Loss: 1.2034... Val Loss: 1.2643\n",
            "Epoch: 12/20... Step: 1550... Loss: 1.2107... Val Loss: 1.2665\n",
            "Epoch: 12/20... Step: 1560... Loss: 1.2213... Val Loss: 1.2601\n",
            "Epoch: 12/20... Step: 1570... Loss: 1.1780... Val Loss: 1.2631\n",
            "Epoch: 12/20... Step: 1580... Loss: 1.1574... Val Loss: 1.2627\n",
            "Epoch: 12/20... Step: 1590... Loss: 1.1607... Val Loss: 1.2633\n",
            "Epoch: 12/20... Step: 1600... Loss: 1.1767... Val Loss: 1.2622\n",
            "Epoch: 12/20... Step: 1610... Loss: 1.1775... Val Loss: 1.2623\n",
            "Epoch: 12/20... Step: 1620... Loss: 1.1677... Val Loss: 1.2616\n",
            "Epoch: 12/20... Step: 1630... Loss: 1.1889... Val Loss: 1.2568\n",
            "Epoch: 12/20... Step: 1640... Loss: 1.1749... Val Loss: 1.2574\n",
            "Epoch: 12/20... Step: 1650... Loss: 1.1546... Val Loss: 1.2630\n",
            "Epoch: 12/20... Step: 1660... Loss: 1.2038... Val Loss: 1.2574\n",
            "Epoch: 13/20... Step: 1670... Loss: 1.1730... Val Loss: 1.2529\n",
            "Epoch: 13/20... Step: 1680... Loss: 1.1796... Val Loss: 1.2558\n",
            "Epoch: 13/20... Step: 1690... Loss: 1.1607... Val Loss: 1.2572\n",
            "Epoch: 13/20... Step: 1700... Loss: 1.1635... Val Loss: 1.2517\n",
            "Epoch: 13/20... Step: 1710... Loss: 1.1504... Val Loss: 1.2537\n",
            "Epoch: 13/20... Step: 1720... Loss: 1.1522... Val Loss: 1.2564\n",
            "Epoch: 13/20... Step: 1730... Loss: 1.1811... Val Loss: 1.2556\n",
            "Epoch: 13/20... Step: 1740... Loss: 1.1554... Val Loss: 1.2513\n",
            "Epoch: 13/20... Step: 1750... Loss: 1.1342... Val Loss: 1.2534\n",
            "Epoch: 13/20... Step: 1760... Loss: 1.1442... Val Loss: 1.2533\n",
            "Epoch: 13/20... Step: 1770... Loss: 1.1783... Val Loss: 1.2488\n",
            "Epoch: 13/20... Step: 1780... Loss: 1.1574... Val Loss: 1.2467\n",
            "Epoch: 13/20... Step: 1790... Loss: 1.1340... Val Loss: 1.2547\n",
            "Epoch: 13/20... Step: 1800... Loss: 1.1615... Val Loss: 1.2490\n",
            "Epoch: 14/20... Step: 1810... Loss: 1.1748... Val Loss: 1.2457\n",
            "Epoch: 14/20... Step: 1820... Loss: 1.1464... Val Loss: 1.2514\n",
            "Epoch: 14/20... Step: 1830... Loss: 1.1615... Val Loss: 1.2450\n",
            "Epoch: 14/20... Step: 1840... Loss: 1.1247... Val Loss: 1.2412\n",
            "Epoch: 14/20... Step: 1850... Loss: 1.1129... Val Loss: 1.2416\n",
            "Epoch: 14/20... Step: 1860... Loss: 1.1545... Val Loss: 1.2461\n",
            "Epoch: 14/20... Step: 1870... Loss: 1.1672... Val Loss: 1.2451\n",
            "Epoch: 14/20... Step: 1880... Loss: 1.1485... Val Loss: 1.2443\n",
            "Epoch: 14/20... Step: 1890... Loss: 1.1826... Val Loss: 1.2457\n",
            "Epoch: 14/20... Step: 1900... Loss: 1.1428... Val Loss: 1.2468\n",
            "Epoch: 14/20... Step: 1910... Loss: 1.1381... Val Loss: 1.2413\n",
            "Epoch: 14/20... Step: 1920... Loss: 1.1408... Val Loss: 1.2393\n",
            "Epoch: 14/20... Step: 1930... Loss: 1.1087... Val Loss: 1.2431\n",
            "Epoch: 14/20... Step: 1940... Loss: 1.1702... Val Loss: 1.2400\n",
            "Epoch: 15/20... Step: 1950... Loss: 1.1430... Val Loss: 1.2443\n",
            "Epoch: 15/20... Step: 1960... Loss: 1.1413... Val Loss: 1.2455\n",
            "Epoch: 15/20... Step: 1970... Loss: 1.1295... Val Loss: 1.2401\n",
            "Epoch: 15/20... Step: 1980... Loss: 1.1281... Val Loss: 1.2372\n",
            "Epoch: 15/20... Step: 1990... Loss: 1.1299... Val Loss: 1.2358\n",
            "Epoch: 15/20... Step: 2000... Loss: 1.1041... Val Loss: 1.2394\n",
            "Epoch: 15/20... Step: 2010... Loss: 1.1251... Val Loss: 1.2415\n",
            "Epoch: 15/20... Step: 2020... Loss: 1.1418... Val Loss: 1.2372\n",
            "Epoch: 15/20... Step: 2030... Loss: 1.1283... Val Loss: 1.2387\n",
            "Epoch: 15/20... Step: 2040... Loss: 1.1319... Val Loss: 1.2381\n",
            "Epoch: 15/20... Step: 2050... Loss: 1.1104... Val Loss: 1.2340\n",
            "Epoch: 15/20... Step: 2060... Loss: 1.1263... Val Loss: 1.2354\n",
            "Epoch: 15/20... Step: 2070... Loss: 1.1388... Val Loss: 1.2365\n",
            "Epoch: 15/20... Step: 2080... Loss: 1.1308... Val Loss: 1.2352\n",
            "Epoch: 16/20... Step: 2090... Loss: 1.1345... Val Loss: 1.2379\n",
            "Epoch: 16/20... Step: 2100... Loss: 1.1205... Val Loss: 1.2396\n",
            "Epoch: 16/20... Step: 2110... Loss: 1.1163... Val Loss: 1.2331\n",
            "Epoch: 16/20... Step: 2120... Loss: 1.1277... Val Loss: 1.2309\n",
            "Epoch: 16/20... Step: 2130... Loss: 1.1000... Val Loss: 1.2297\n",
            "Epoch: 16/20... Step: 2140... Loss: 1.1193... Val Loss: 1.2339\n",
            "Epoch: 16/20... Step: 2150... Loss: 1.1354... Val Loss: 1.2364\n",
            "Epoch: 16/20... Step: 2160... Loss: 1.1203... Val Loss: 1.2358\n",
            "Epoch: 16/20... Step: 2170... Loss: 1.1093... Val Loss: 1.2341\n",
            "Epoch: 16/20... Step: 2180... Loss: 1.1062... Val Loss: 1.2362\n",
            "Epoch: 16/20... Step: 2190... Loss: 1.1238... Val Loss: 1.2335\n",
            "Epoch: 16/20... Step: 2200... Loss: 1.1136... Val Loss: 1.2285\n",
            "Epoch: 16/20... Step: 2210... Loss: 1.0696... Val Loss: 1.2316\n",
            "Epoch: 16/20... Step: 2220... Loss: 1.1180... Val Loss: 1.2293\n",
            "Epoch: 17/20... Step: 2230... Loss: 1.1091... Val Loss: 1.2346\n",
            "Epoch: 17/20... Step: 2240... Loss: 1.0990... Val Loss: 1.2343\n",
            "Epoch: 17/20... Step: 2250... Loss: 1.0883... Val Loss: 1.2288\n",
            "Epoch: 17/20... Step: 2260... Loss: 1.1055... Val Loss: 1.2322\n",
            "Epoch: 17/20... Step: 2270... Loss: 1.0981... Val Loss: 1.2308\n",
            "Epoch: 17/20... Step: 2280... Loss: 1.1044... Val Loss: 1.2312\n",
            "Epoch: 17/20... Step: 2290... Loss: 1.1153... Val Loss: 1.2338\n",
            "Epoch: 17/20... Step: 2300... Loss: 1.0891... Val Loss: 1.2293\n",
            "Epoch: 17/20... Step: 2310... Loss: 1.0950... Val Loss: 1.2284\n",
            "Epoch: 17/20... Step: 2320... Loss: 1.0955... Val Loss: 1.2297\n",
            "Epoch: 17/20... Step: 2330... Loss: 1.0897... Val Loss: 1.2304\n",
            "Epoch: 17/20... Step: 2340... Loss: 1.1100... Val Loss: 1.2264\n",
            "Epoch: 17/20... Step: 2350... Loss: 1.0969... Val Loss: 1.2280\n",
            "Epoch: 17/20... Step: 2360... Loss: 1.1036... Val Loss: 1.2282\n",
            "Epoch: 18/20... Step: 2370... Loss: 1.0824... Val Loss: 1.2294\n",
            "Epoch: 18/20... Step: 2380... Loss: 1.0958... Val Loss: 1.2289\n",
            "Epoch: 18/20... Step: 2390... Loss: 1.0948... Val Loss: 1.2251\n",
            "Epoch: 18/20... Step: 2400... Loss: 1.1005... Val Loss: 1.2283\n",
            "Epoch: 18/20... Step: 2410... Loss: 1.1014... Val Loss: 1.2279\n",
            "Epoch: 18/20... Step: 2420... Loss: 1.0817... Val Loss: 1.2287\n",
            "Epoch: 18/20... Step: 2430... Loss: 1.0869... Val Loss: 1.2289\n",
            "Epoch: 18/20... Step: 2440... Loss: 1.0806... Val Loss: 1.2333\n",
            "Epoch: 18/20... Step: 2450... Loss: 1.0711... Val Loss: 1.2287\n",
            "Epoch: 18/20... Step: 2460... Loss: 1.0885... Val Loss: 1.2251\n",
            "Epoch: 18/20... Step: 2470... Loss: 1.0817... Val Loss: 1.2296\n",
            "Epoch: 18/20... Step: 2480... Loss: 1.0772... Val Loss: 1.2248\n",
            "Epoch: 18/20... Step: 2490... Loss: 1.0623... Val Loss: 1.2280\n",
            "Epoch: 18/20... Step: 2500... Loss: 1.0738... Val Loss: 1.2247\n",
            "Epoch: 19/20... Step: 2510... Loss: 1.0752... Val Loss: 1.2272\n",
            "Epoch: 19/20... Step: 2520... Loss: 1.0841... Val Loss: 1.2267\n",
            "Epoch: 19/20... Step: 2530... Loss: 1.0836... Val Loss: 1.2224\n",
            "Epoch: 19/20... Step: 2540... Loss: 1.0912... Val Loss: 1.2239\n",
            "Epoch: 19/20... Step: 2550... Loss: 1.0718... Val Loss: 1.2239\n",
            "Epoch: 19/20... Step: 2560... Loss: 1.0831... Val Loss: 1.2261\n",
            "Epoch: 19/20... Step: 2570... Loss: 1.0688... Val Loss: 1.2255\n",
            "Epoch: 19/20... Step: 2580... Loss: 1.0899... Val Loss: 1.2247\n",
            "Epoch: 19/20... Step: 2590... Loss: 1.0733... Val Loss: 1.2271\n",
            "Epoch: 19/20... Step: 2600... Loss: 1.0542... Val Loss: 1.2253\n",
            "Epoch: 19/20... Step: 2610... Loss: 1.0773... Val Loss: 1.2265\n",
            "Epoch: 19/20... Step: 2620... Loss: 1.0589... Val Loss: 1.2263\n",
            "Epoch: 19/20... Step: 2630... Loss: 1.0594... Val Loss: 1.2238\n",
            "Epoch: 19/20... Step: 2640... Loss: 1.0907... Val Loss: 1.2256\n",
            "Epoch: 20/20... Step: 2650... Loss: 1.0730... Val Loss: 1.2267\n",
            "Epoch: 20/20... Step: 2660... Loss: 1.0883... Val Loss: 1.2279\n",
            "Epoch: 20/20... Step: 2670... Loss: 1.0784... Val Loss: 1.2204\n",
            "Epoch: 20/20... Step: 2680... Loss: 1.0775... Val Loss: 1.2207\n",
            "Epoch: 20/20... Step: 2690... Loss: 1.0642... Val Loss: 1.2220\n",
            "Epoch: 20/20... Step: 2700... Loss: 1.0706... Val Loss: 1.2245\n",
            "Epoch: 20/20... Step: 2710... Loss: 1.0497... Val Loss: 1.2258\n",
            "Epoch: 20/20... Step: 2720... Loss: 1.0443... Val Loss: 1.2257\n",
            "Epoch: 20/20... Step: 2730... Loss: 1.0484... Val Loss: 1.2279\n",
            "Epoch: 20/20... Step: 2740... Loss: 1.0470... Val Loss: 1.2275\n",
            "Epoch: 20/20... Step: 2750... Loss: 1.0546... Val Loss: 1.2294\n",
            "Epoch: 20/20... Step: 2760... Loss: 1.0455... Val Loss: 1.2243\n",
            "Epoch: 20/20... Step: 2770... Loss: 1.0811... Val Loss: 1.2251\n",
            "Epoch: 20/20... Step: 2780... Loss: 1.1147... Val Loss: 1.2260\n"
          ],
          "name": "stdout"
        }
      ]
    },
    {
      "metadata": {
        "id": "YfzBEMth7I3E",
        "colab_type": "text"
      },
      "cell_type": "markdown",
      "source": [
        "## Getting the best model\n",
        "\n",
        "To set your hyperparameters to get the best performance, you'll want to watch the training and validation losses. If your training loss is much lower than the validation loss, you're overfitting. Increase regularization (more dropout) or use a smaller network. If the training and validation losses are close, you're underfitting so you can increase the size of the network."
      ]
    },
    {
      "metadata": {
        "id": "6QMb8lVj7I3G",
        "colab_type": "text"
      },
      "cell_type": "markdown",
      "source": [
        "## Hyperparameters\n",
        "\n",
        "Here are the hyperparameters for the network.\n",
        "\n",
        "In defining the model:\n",
        "* `n_hidden` - The number of units in the hidden layers.\n",
        "* `n_layers` - Number of hidden LSTM layers to use.\n",
        "\n",
        "We assume that dropout probability and learning rate will be kept at the default, in this example.\n",
        "\n",
        "And in training:\n",
        "* `batch_size` - Number of sequences running through the network in one pass.\n",
        "* `seq_length` - Number of characters in the sequence the network is trained on. Larger is better typically, the network will learn more long range dependencies. But it takes longer to train. 100 is typically a good number here.\n",
        "* `lr` - Learning rate for training\n",
        "\n",
        "Here's some good advice from Andrej Karpathy on training the network. I'm going to copy it in here for your benefit, but also link to [where it originally came from](https://github.com/karpathy/char-rnn#tips-and-tricks).\n",
        "\n",
        "> ## Tips and Tricks\n",
        "\n",
        ">### Monitoring Validation Loss vs. Training Loss\n",
        ">If you're somewhat new to Machine Learning or Neural Networks it can take a bit of expertise to get good models. The most important quantity to keep track of is the difference between your training loss (printed during training) and the validation loss (printed once in a while when the RNN is run on the validation data (by default every 1000 iterations)). In particular:\n",
        "\n",
        "> - If your training loss is much lower than validation loss then this means the network might be **overfitting**. Solutions to this are to decrease your network size, or to increase dropout. For example you could try dropout of 0.5 and so on.\n",
        "> - If your training/validation loss are about equal then your model is **underfitting**. Increase the size of your model (either number of layers or the raw number of neurons per layer)\n",
        "\n",
        "> ### Approximate number of parameters\n",
        "\n",
        "> The two most important parameters that control the model are `n_hidden` and `n_layers`. I would advise that you always use `n_layers` of either 2/3. The `n_hidden` can be adjusted based on how much data you have. The two important quantities to keep track of here are:\n",
        "\n",
        "> - The number of parameters in your model. This is printed when you start training.\n",
        "> - The size of your dataset. 1MB file is approximately 1 million characters.\n",
        "\n",
        ">These two should be about the same order of magnitude. It's a little tricky to tell. Here are some examples:\n",
        "\n",
        "> - I have a 100MB dataset and I'm using the default parameter settings (which currently print 150K parameters). My data size is significantly larger (100 mil >> 0.15 mil), so I expect to heavily underfit. I am thinking I can comfortably afford to make `n_hidden` larger.\n",
        "> - I have a 10MB dataset and running a 10 million parameter model. I'm slightly nervous and I'm carefully monitoring my validation loss. If it's larger than my training loss then I may want to try to increase dropout a bit and see if that helps the validation loss.\n",
        "\n",
        "> ### Best models strategy\n",
        "\n",
        ">The winning strategy to obtaining very good models (if you have the compute time) is to always err on making the network larger (as large as you're willing to wait for it to compute) and then try different dropout values (between 0,1). Whatever model has the best validation performance (the loss, written in the checkpoint filename, low is good) is the one you should use in the end.\n",
        "\n",
        ">It is very common in deep learning to run many different models with many different hyperparameter settings, and in the end take whatever checkpoint gave the best validation performance.\n",
        "\n",
        ">By the way, the size of your training and validation splits are also parameters. Make sure you have a decent amount of data in your validation set or otherwise the validation performance will be noisy and not very informative."
      ]
    },
    {
      "metadata": {
        "id": "0VeWl0B47I3H",
        "colab_type": "text"
      },
      "cell_type": "markdown",
      "source": [
        "## Checkpoint\n",
        "\n",
        "After training, we'll save the model so we can load it again later if we need too. Here I'm saving the parameters needed to create the same architecture, the hidden layer hyperparameters and the text characters."
      ]
    },
    {
      "metadata": {
        "id": "EvO7VcMX7I3I",
        "colab_type": "code",
        "colab": {}
      },
      "cell_type": "code",
      "source": [
        "# change the name, for saving multiple files\n",
        "model_name = 'char_lstm_H1024_L3_Ep20.net'\n",
        "\n",
        "checkpoint = {'n_hidden': net.n_hidden,\n",
        "              'n_layers': net.n_layers,\n",
        "              'state_dict': net.state_dict(),\n",
        "              'tokens': net.chars}\n",
        "\n",
        "with open(model_name, 'wb') as f:\n",
        "    torch.save(checkpoint, f)"
      ],
      "execution_count": 0,
      "outputs": []
    },
    {
      "metadata": {
        "id": "0tlStkxM7I3L",
        "colab_type": "text"
      },
      "cell_type": "markdown",
      "source": [
        "---\n",
        "## Making Predictions\n",
        "\n",
        "Now that the model is trained, we'll want to sample from it and make predictions about next characters! To sample, we pass in a character and have the network predict the next character. Then we take that character, pass it back in, and get another predicted character. Just keep doing this and you'll generate a bunch of text!\n",
        "\n",
        "### A note on the `predict`  function\n",
        "\n",
        "The output of our RNN is from a fully-connected layer and it outputs a **distribution of next-character scores**.\n",
        "\n",
        "> To actually get the next character, we apply a softmax function, which gives us a *probability* distribution that we can then sample to predict the next character.\n",
        "\n",
        "### Top K sampling\n",
        "\n",
        "Our predictions come from a categorical probability distribution over all the possible characters. We can make the sample text and make it more reasonable to handle (with less variables) by only considering some $K$ most probable characters. This will prevent the network from giving us completely absurd characters while allowing it to introduce some noise and randomness into the sampled text. Read more about [topk, here](https://pytorch.org/docs/stable/torch.html#torch.topk).\n"
      ]
    },
    {
      "metadata": {
        "id": "MzpnLCID7I3M",
        "colab_type": "code",
        "colab": {}
      },
      "cell_type": "code",
      "source": [
        "def predict(net, char, h=None, top_k=None):\n",
        "        ''' Given a character, predict the next character.\n",
        "            Returns the predicted character and the hidden state.\n",
        "        '''\n",
        "        \n",
        "        # tensor inputs\n",
        "        x = np.array([[net.char2int[char]]])\n",
        "        x = one_hot_encode(x, len(net.chars))\n",
        "        inputs = torch.from_numpy(x)\n",
        "        \n",
        "        if(train_on_gpu):\n",
        "            inputs = inputs.cuda()\n",
        "        \n",
        "        # detach hidden state from history\n",
        "        h = tuple([each.data for each in h])\n",
        "        # get the output of the model\n",
        "        out, h = net(inputs, h)\n",
        "\n",
        "        # get the character probabilities\n",
        "        p = F.softmax(out, dim=1).data\n",
        "        if(train_on_gpu):\n",
        "            p = p.cpu() # move to cpu\n",
        "        \n",
        "        # get top characters\n",
        "        if top_k is None:\n",
        "            top_ch = np.arange(len(net.chars))\n",
        "        else:\n",
        "            p, top_ch = p.topk(top_k)\n",
        "            top_ch = top_ch.numpy().squeeze()\n",
        "        \n",
        "        # select the likely next character with some element of randomness\n",
        "        p = p.numpy().squeeze()\n",
        "        char = np.random.choice(top_ch, p=p/p.sum())\n",
        "        \n",
        "        # return the encoded value of the predicted char and the hidden state\n",
        "        return net.int2char[char], h"
      ],
      "execution_count": 0,
      "outputs": []
    },
    {
      "metadata": {
        "id": "MpmQhqXw7I3P",
        "colab_type": "text"
      },
      "cell_type": "markdown",
      "source": [
        "### Priming and generating text \n",
        "\n",
        "Typically you'll want to prime the network so you can build up a hidden state. Otherwise the network will start out generating characters at random. In general the first bunch of characters will be a little rough since it hasn't built up a long history of characters to predict from."
      ]
    },
    {
      "metadata": {
        "id": "Rb_PPHnp7I3P",
        "colab_type": "code",
        "colab": {}
      },
      "cell_type": "code",
      "source": [
        "def sample(net, size, prime='The', top_k=None):\n",
        "        \n",
        "    if(train_on_gpu):\n",
        "        net.cuda()\n",
        "    else:\n",
        "        net.cpu()\n",
        "    \n",
        "    net.eval() # eval mode\n",
        "    \n",
        "    # First off, run through the prime characters\n",
        "    chars = [ch for ch in prime]\n",
        "    h = net.init_hidden(1)\n",
        "    for ch in prime:\n",
        "        char, h = predict(net, ch, h, top_k=top_k)\n",
        "\n",
        "    chars.append(char)\n",
        "    \n",
        "    # Now pass in the previous character and get a new one\n",
        "    for ii in range(size):\n",
        "        char, h = predict(net, chars[-1], h, top_k=top_k)\n",
        "        chars.append(char)\n",
        "\n",
        "    return ''.join(chars)"
      ],
      "execution_count": 0,
      "outputs": []
    },
    {
      "metadata": {
        "id": "Chx6VmFR7I3S",
        "colab_type": "code",
        "colab": {
          "base_uri": "https://localhost:8080/",
          "height": 390
        },
        "outputId": "6d693bfb-ee5a-4805-d028-61226de1c317"
      },
      "cell_type": "code",
      "source": [
        "print(sample(net, 1000, prime='Anna', top_k=5))"
      ],
      "execution_count": 20,
      "outputs": [
        {
          "output_type": "stream",
          "text": [
            "Annar Anna did not admit the day before. The company of his love, his face as though in the country. Then the children\n",
            "went back out of the club,\n",
            "she felt himself as he finished. His shoulder said,\n",
            "had already\n",
            "atronching a stagethen of the change, and his fields seemed\n",
            "the streams of the peasants who had to look at\n",
            "the path. And he had not been asking for\n",
            "that showing that had brought him the\n",
            "coachman there he could never be done, and then two sense of that train had been a sort of considerations.\n",
            "\n",
            "The same time he found that a capital suffering saw\n",
            "that he\n",
            "had a faint clest and his sense of the sound\n",
            "that herself, and to confile himself to say, he felt a\n",
            "sorry for tomern household, but to care for her\n",
            "for any sensation of arts. The same solied horrified in society, he could not\n",
            "believe his secret had always been stoping and some man only just\n",
            "come to stay to their constant. But it\n",
            "was at that some water had been done.\n",
            "\n",
            "\"Is there a conversation of their mother, as he's something but her,\" s\n"
          ],
          "name": "stdout"
        }
      ]
    },
    {
      "metadata": {
        "id": "ulgdLKDg7I3U",
        "colab_type": "text"
      },
      "cell_type": "markdown",
      "source": [
        "## Loading a checkpoint"
      ]
    },
    {
      "metadata": {
        "id": "qbeH4q837I3W",
        "colab_type": "code",
        "colab": {}
      },
      "cell_type": "code",
      "source": [
        "# Here we have loaded in a model that trained over 20 epochs `rnn_20_epoch.net`\n",
        "with open('char_lstm_H1024_L3_Ep20.net', 'rb') as f:\n",
        "    checkpoint = torch.load(f)\n",
        "    \n",
        "loaded = CharRNN(checkpoint['tokens'], n_hidden=checkpoint['n_hidden'], n_layers=checkpoint['n_layers'])\n",
        "loaded.load_state_dict(checkpoint['state_dict'])"
      ],
      "execution_count": 0,
      "outputs": []
    },
    {
      "metadata": {
        "id": "yFWIwsZP7I3a",
        "colab_type": "code",
        "colab": {
          "base_uri": "https://localhost:8080/",
          "height": 1047
        },
        "outputId": "047fedd4-b5bc-42f6-8cd5-af00479410a2"
      },
      "cell_type": "code",
      "source": [
        "# Sample using a loaded model\n",
        "print(sample(loaded, 2000, top_k=5, prime=\"And Levin said\"))"
      ],
      "execution_count": 23,
      "outputs": [
        {
          "output_type": "stream",
          "text": [
            "And Levin said: \"What would\n",
            "you can do, annw you make my son in that carriage. But I don't care to\n",
            "see you. I don't know her.\n",
            "I shall not come to them on. I can't say that there was\n",
            "no one.\"\n",
            "\n",
            "\"What am I to see you?\" he said.\n",
            "\n",
            "\"I hold the study,\" said Stepan Arkadyevitch.\n",
            "\n",
            "The smelling of themselves was to be different and to the feeling of his suffering, and was\n",
            "silent.\n",
            "\"How did it stay?\" said Anna, and his eyes, he forgave them, and at once shook his bare cleverness.\n",
            "\n",
            "They was simply alwer in time to tell him of her husband.\n",
            "\n",
            "\"What is he is! Why so?\" said Levin. \"What is she?\" he said.\n",
            "\n",
            "\"You're not going to bed you,\" said Anna, and with her husband talked about it.\n",
            "\n",
            "\"I cannot blood it. I don't know. I've\n",
            "been settled and tell me about her. All one's silence! To greet him,\n",
            "I am not simply break. I always did is to be divided.\"\n",
            "\n",
            "\"You want to go, and that I will see it.\"\n",
            "\n",
            "\"Oh, what do you say about you?\" she said, with a book and smiled\n",
            "at\n",
            "the drawing, and\n",
            "caught her mind he felt sorry to speak, but at the same time and shaking her hand, her eyes.\n",
            "\n",
            "\"You would not have said, and was aware that I'm not to love it to something to him, but you\n",
            "must have\n",
            "the carriage; that will be doubts. A group of caressing is the sight of\n",
            "a sprength of\n",
            "the crub and taking\n",
            "off her companion. A man that could be all that is not merely thinking\n",
            "of it. This is a matter of\n",
            "the\n",
            "cenentrating man, and that woman\n",
            "were a sort in which it was\n",
            "settled a bell, anyway.\"\n",
            "\n",
            "\"I don't think that I would have liked to go into society, to be sure, I said he has not been so drawing to talk of that thousand of that traces is so much to be desperied.\"\n",
            "\n",
            "\"You won't see, you\n",
            "didn't care about. And send my sunshade in, and then there's someone of\n",
            "the secretary is a\n",
            "subject....\"\n",
            "\n",
            "\"You don't know. I don't know that I cannot come to the seat about this\n",
            "fact, that you and then that songs's not a man told me. And there are note of my husband. Then all sorts were there's\n",
            "something\n",
            "soul.\"\n",
            "\n",
            "\"What is it?\"\n",
            "\n",
            "\"Yes, I don't believe, I shall \n"
          ],
          "name": "stdout"
        }
      ]
    }
  ]
}