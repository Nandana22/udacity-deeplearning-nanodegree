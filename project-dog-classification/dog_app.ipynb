{
  "nbformat": 4,
  "nbformat_minor": 0,
  "metadata": {
    "colab": {
      "name": "dog_app.ipynb",
      "version": "0.3.2",
      "provenance": []
    },
    "kernelspec": {
      "name": "python3",
      "display_name": "Python 3"
    },
    "accelerator": "GPU"
  },
  "cells": [
    {
      "metadata": {
        "colab_type": "text",
        "id": "xo1xBktCfE2Y"
      },
      "cell_type": "markdown",
      "source": [
        "# Convolutional Neural Networks\n",
        "\n",
        "## Project: Write an Algorithm for a Dog Identification App \n",
        "\n",
        "---\n",
        "\n",
        "In this notebook, some template code has already been provided for you, and you will need to implement additional functionality to successfully complete this project. You will not need to modify the included code beyond what is requested. Sections that begin with **'(IMPLEMENTATION)'** in the header indicate that the following block of code will require additional functionality which you must provide. Instructions will be provided for each section, and the specifics of the implementation are marked in the code block with a 'TODO' statement. Please be sure to read the instructions carefully! \n",
        "\n",
        "> **Note**: Once you have completed all of the code implementations, you need to finalize your work by exporting the Jupyter Notebook as an HTML document. Before exporting the notebook to html, all of the code cells need to have been run so that reviewers can see the final implementation and output. You can then export the notebook by using the menu above and navigating to **File -> Download as -> HTML (.html)**. Include the finished document along with this notebook as your submission.\n",
        "\n",
        "In addition to implementing code, there will be questions that you must answer which relate to the project and your implementation. Each section where you will answer a question is preceded by a **'Question X'** header. Carefully read each question and provide thorough answers in the following text boxes that begin with **'Answer:'**. Your project submission will be evaluated based on your answers to each of the questions and the implementation you provide.\n",
        "\n",
        ">**Note:** Code and Markdown cells can be executed using the **Shift + Enter** keyboard shortcut.  Markdown cells can be edited by double-clicking the cell to enter edit mode.\n",
        "\n",
        "The rubric contains _optional_ \"Stand Out Suggestions\" for enhancing the project beyond the minimum requirements. If you decide to pursue the \"Stand Out Suggestions\", you should include the code in this Jupyter notebook.\n",
        "\n",
        "\n",
        "\n",
        "---\n",
        "### Why We're Here \n",
        "\n",
        "In this notebook, you will make the first steps towards developing an algorithm that could be used as part of a mobile or web app.  At the end of this project, your code will accept any user-supplied image as input.  If a dog is detected in the image, it will provide an estimate of the dog's breed.  If a human is detected, it will provide an estimate of the dog breed that is most resembling.  The image below displays potential sample output of your finished project (... but we expect that each student's algorithm will behave differently!). \n",
        "\n",
        "![Sample Dog Output](https://github.com/silviomori/udacity-deeplearning-nanodegree-fork/blob/silviomori-project-dog-classification/project-dog-classification/images/sample_dog_output.png?raw=1)\n",
        "\n",
        "In this real-world setting, you will need to piece together a series of models to perform different tasks; for instance, the algorithm that detects humans in an image will be different from the CNN that infers dog breed.  There are many points of possible failure, and no perfect algorithm exists.  Your imperfect solution will nonetheless create a fun user experience!\n",
        "\n",
        "### The Road Ahead\n",
        "\n",
        "We break the notebook into separate steps.  Feel free to use the links below to navigate the notebook.\n",
        "\n",
        "* [Step 0](#step0): Import Datasets\n",
        "* [Step 1](#step1): Detect Humans\n",
        "* [Step 2](#step2): Detect Dogs\n",
        "* [Step 3](#step3): Create a CNN to Classify Dog Breeds (from Scratch)\n",
        "* [Step 4](#step4): Create a CNN to Classify Dog Breeds (using Transfer Learning)\n",
        "* [Step 5](#step5): Write your Algorithm\n",
        "* [Step 6](#step6): Test Your Algorithm\n",
        "\n",
        "---\n",
        "<a id='step0'></a>\n",
        "## Step 0: Import Datasets\n",
        "\n",
        "Make sure that you've downloaded the required human and dog datasets:\n",
        "* Download the [dog dataset](https://s3-us-west-1.amazonaws.com/udacity-aind/dog-project/dogImages.zip).  Unzip the folder and place it in this project's home directory, at the location `/dogImages`. \n",
        "\n",
        "* Download the [human dataset](https://s3-us-west-1.amazonaws.com/udacity-aind/dog-project/lfw.zip).  Unzip the folder and place it in the home diretcory, at location `/lfw`.  \n",
        "\n",
        "*Note: If you are using a Windows machine, you are encouraged to use [7zip](http://www.7-zip.org/) to extract the folder.*\n",
        "\n",
        "In the code cell below, we save the file paths for both the human (LFW) dataset and dog dataset in the numpy arrays `human_files` and `dog_files`."
      ]
    },
    {
      "metadata": {
        "colab_type": "code",
        "id": "DEfbNhkmfE2a",
        "colab": {}
      },
      "cell_type": "code",
      "source": [
        "# Install cv2 library\n",
        "!pip install -q opencv-python\n",
        "\n",
        "# Download OpenCV's implementation of Haar feature-based cascade classifiers to detect human faces in images\n",
        "!wget -q 'https://raw.githubusercontent.com/opencv/opencv/master/data/haarcascades/haarcascade_frontalface_alt.xml' -P haarcascades"
      ],
      "execution_count": 0,
      "outputs": []
    },
    {
      "metadata": {
        "colab_type": "code",
        "id": "vHhqRJ4WfE2f",
        "colab": {}
      },
      "cell_type": "code",
      "source": [
        "# Download the dog images\n",
        "!wget -q https://s3-us-west-1.amazonaws.com/udacity-aind/dog-project/dogImages.zip\n",
        "!unzip -q dogImages.zip"
      ],
      "execution_count": 0,
      "outputs": []
    },
    {
      "metadata": {
        "colab_type": "code",
        "id": "ppzSVl2KfE2i",
        "colab": {}
      },
      "cell_type": "code",
      "source": [
        "# Download the human images\n",
        "!wget -q https://s3-us-west-1.amazonaws.com/udacity-aind/dog-project/lfw.zip\n",
        "!unzip -q lfw.zip lfw/*/*"
      ],
      "execution_count": 0,
      "outputs": []
    },
    {
      "metadata": {
        "colab_type": "code",
        "id": "BKezIbErfE2k",
        "colab": {}
      },
      "cell_type": "code",
      "source": [
        "# Import all dependencies for this notebook\n",
        "%matplotlib inline\n",
        "\n",
        "import numpy as np\n",
        "from glob import glob\n",
        "import cv2\n",
        "from tqdm import tqdm\n",
        "\n",
        "import matplotlib.pyplot as plt\n",
        "\n",
        "from PIL import Image, ImageFile\n",
        "\n",
        "import torch\n",
        "from torch import nn, optim\n",
        "from torchvision import models, transforms, datasets\n",
        "\n",
        "import sys\n",
        "\n",
        "from google.colab import drive"
      ],
      "execution_count": 0,
      "outputs": []
    },
    {
      "metadata": {
        "colab_type": "code",
        "id": "ZDfpR0Rqns2u",
        "outputId": "d0a80237-e9ea-42e0-d65c-2a979a90230f",
        "colab": {
          "base_uri": "https://localhost:8080/",
          "height": 128
        }
      },
      "cell_type": "code",
      "source": [
        "gdrive_dir = '/gdrive'\n",
        "drive.mount(gdrive_dir)\n",
        "gdrive_dir = gdrive_dir+'/My Drive/Colab Notebooks/'"
      ],
      "execution_count": 5,
      "outputs": [
        {
          "output_type": "stream",
          "text": [
            "Go to this URL in a browser: https://accounts.google.com/o/oauth2/auth?client_id=947318989803-6bn6qk8qdgf4n4g3pfee6491hc0brc4i.apps.googleusercontent.com&redirect_uri=urn%3Aietf%3Awg%3Aoauth%3A2.0%3Aoob&scope=email%20https%3A%2F%2Fwww.googleapis.com%2Fauth%2Fdocs.test%20https%3A%2F%2Fwww.googleapis.com%2Fauth%2Fdrive%20https%3A%2F%2Fwww.googleapis.com%2Fauth%2Fdrive.photos.readonly%20https%3A%2F%2Fwww.googleapis.com%2Fauth%2Fpeopleapi.readonly&response_type=code\n",
            "\n",
            "Enter your authorization code:\n",
            "··········\n",
            "Mounted at /gdrive\n"
          ],
          "name": "stdout"
        }
      ]
    },
    {
      "metadata": {
        "colab_type": "code",
        "id": "3213aUtwfE2n",
        "outputId": "ef0c7478-62cb-4252-bcd0-f35f79a20959",
        "colab": {
          "base_uri": "https://localhost:8080/",
          "height": 54
        }
      },
      "cell_type": "code",
      "source": [
        "# load filenames for human and dog images\n",
        "human_files = np.array(glob(\"lfw/*/*\"))\n",
        "dog_files = np.array(glob(\"dogImages/*/*/*\"))\n",
        "\n",
        "# print number of images in each dataset\n",
        "print('There are %d total human images.' % len(human_files))\n",
        "print('There are %d total dog images.' % len(dog_files))"
      ],
      "execution_count": 6,
      "outputs": [
        {
          "output_type": "stream",
          "text": [
            "There are 13233 total human images.\n",
            "There are 8351 total dog images.\n"
          ],
          "name": "stdout"
        }
      ]
    },
    {
      "metadata": {
        "colab_type": "text",
        "id": "qSqZrrlFfE2t"
      },
      "cell_type": "markdown",
      "source": [
        "<a id='step1'></a>\n",
        "## Step 1: Detect Humans\n",
        "\n",
        "In this section, we use OpenCV's implementation of [Haar feature-based cascade classifiers](http://docs.opencv.org/trunk/d7/d8b/tutorial_py_face_detection.html) to detect human faces in images.  \n",
        "\n",
        "OpenCV provides many pre-trained face detectors, stored as XML files on [github](https://github.com/opencv/opencv/tree/master/data/haarcascades).  We have downloaded one of these detectors and stored it in the `haarcascades` directory.  In the next code cell, we demonstrate how to use this detector to find human faces in a sample image."
      ]
    },
    {
      "metadata": {
        "colab_type": "code",
        "id": "Gvk9iSD9fE2u",
        "outputId": "e79ec61b-4a2a-4214-8c69-e6ba878882bf",
        "colab": {
          "base_uri": "https://localhost:8080/",
          "height": 287
        }
      },
      "cell_type": "code",
      "source": [
        "# extract pre-trained face detector\n",
        "face_cascade = cv2.CascadeClassifier('haarcascades/haarcascade_frontalface_alt.xml')\n",
        "\n",
        "# load color (BGR) image\n",
        "img = cv2.imread(human_files[0])\n",
        "# convert BGR image to grayscale\n",
        "gray = cv2.cvtColor(img, cv2.COLOR_BGR2GRAY)\n",
        "\n",
        "# find faces in image\n",
        "faces = face_cascade.detectMultiScale(gray)\n",
        "\n",
        "# print number of faces detected in the image\n",
        "print('Number of faces detected:', len(faces))\n",
        "\n",
        "# get bounding box for each detected face\n",
        "for (x,y,w,h) in faces:\n",
        "    # add bounding box to color image\n",
        "    cv2.rectangle(img,(x,y),(x+w,y+h),(255,0,0),2)\n",
        "    \n",
        "# convert BGR image to RGB for plotting\n",
        "cv_rgb = cv2.cvtColor(img, cv2.COLOR_BGR2RGB)\n",
        "\n",
        "# display the image, along with bounding box\n",
        "plt.imshow(cv_rgb)\n",
        "plt.show()"
      ],
      "execution_count": 7,
      "outputs": [
        {
          "output_type": "stream",
          "text": [
            "Number of faces detected: 1\n"
          ],
          "name": "stdout"
        },
        {
          "output_type": "display_data",
          "data": {
            "image/png": "[encoded data removed]",
            "text/plain": [
              "<Figure size 432x288 with 1 Axes>"
            ]
          },
          "metadata": {
            "tags": []
          }
        }
      ]
    },
    {
      "metadata": {
        "colab_type": "text",
        "id": "2yP6rtMSfE2y"
      },
      "cell_type": "markdown",
      "source": [
        "Before using any of the face detectors, it is standard procedure to convert the images to grayscale.  The `detectMultiScale` function executes the classifier stored in `face_cascade` and takes the grayscale image as a parameter.  \n",
        "\n",
        "In the above code, `faces` is a numpy array of detected faces, where each row corresponds to a detected face.  Each detected face is a 1D array with four entries that specifies the bounding box of the detected face.  The first two entries in the array (extracted in the above code as `x` and `y`) specify the horizontal and vertical positions of the top left corner of the bounding box.  The last two entries in the array (extracted here as `w` and `h`) specify the width and height of the box.\n",
        "\n",
        "### Write a Human Face Detector\n",
        "\n",
        "We can use this procedure to write a function that returns `True` if a human face is detected in an image and `False` otherwise.  This function, aptly named `face_detector`, takes a string-valued file path to an image as input and appears in the code block below."
      ]
    },
    {
      "metadata": {
        "colab_type": "code",
        "id": "mvssj3XVfE2z",
        "colab": {}
      },
      "cell_type": "code",
      "source": [
        "# returns \"True\" if face is detected in image stored at img_path\n",
        "def face_detector(img_path):\n",
        "    img = cv2.imread(img_path)\n",
        "    gray = cv2.cvtColor(img, cv2.COLOR_BGR2GRAY)\n",
        "    faces = face_cascade.detectMultiScale(gray)\n",
        "    return len(faces) > 0"
      ],
      "execution_count": 0,
      "outputs": []
    },
    {
      "metadata": {
        "colab_type": "text",
        "id": "lC7idl3IfE24"
      },
      "cell_type": "markdown",
      "source": [
        "### (IMPLEMENTATION) Assess the Human Face Detector\n",
        "\n",
        "__Question 1:__ Use the code cell below to test the performance of the `face_detector` function.  \n",
        "- What percentage of the first 100 images in `human_files` have a detected human face?  \n",
        "- What percentage of the first 100 images in `dog_files` have a detected human face? \n",
        "\n",
        "Ideally, we would like 100% of human images with a detected face and 0% of dog images with a detected face.  You will see that our algorithm falls short of this goal, but still gives acceptable performance.  We extract the file paths for the first 100 images from each of the datasets and store them in the numpy arrays `human_files_short` and `dog_files_short`."
      ]
    },
    {
      "metadata": {
        "colab_type": "text",
        "id": "B2H2vYIqfE25"
      },
      "cell_type": "markdown",
      "source": [
        "__Answer:__  \n",
        "Human faces detected in human images: __```100.0%```__  \n",
        "Human faces detected in dog images: __```8.0%```__"
      ]
    },
    {
      "metadata": {
        "colab_type": "code",
        "id": "jZDvlIRNfE26",
        "outputId": "c7f1482b-9616-4292-efc8-aa22f859ad90",
        "colab": {
          "base_uri": "https://localhost:8080/",
          "height": 54
        }
      },
      "cell_type": "code",
      "source": [
        "human_files_short = human_files[:100]\n",
        "dog_files_short = dog_files[:100]\n",
        "\n",
        "#-#-# Do NOT modify the code above this line. #-#-#\n",
        "\n",
        "## DONE: Test the performance of the face_detector algorithm \n",
        "## on the images in human_files_short and dog_files_short.\n",
        "\n",
        "detections_in_human_files = np.mean([face_detector(img) for img in human_files_short]) * 100\n",
        "print(f'Human faces detected in human images\\t{detections_in_human_files:2}%')\n",
        "\n",
        "detections_in_dog_files = np.mean([face_detector(img) for img in dog_files_short]) * 100\n",
        "print(f'Human faces detected in dog images\\t{detections_in_dog_files:2}%')"
      ],
      "execution_count": 9,
      "outputs": [
        {
          "output_type": "stream",
          "text": [
            "Human faces detected in human images\t98.0%\n",
            "Human faces detected in dog images\t1.0%\n"
          ],
          "name": "stdout"
        }
      ]
    },
    {
      "metadata": {
        "colab_type": "text",
        "id": "16Y_Ju2QfE29"
      },
      "cell_type": "markdown",
      "source": [
        "We suggest the face detector from OpenCV as a potential way to detect human images in your algorithm, but you are free to explore other approaches, especially approaches that make use of deep learning :).  Please use the code cell below to design and test your own face detection algorithm.  If you decide to pursue this _optional_ task, report performance on `human_files_short` and `dog_files_short`."
      ]
    },
    {
      "metadata": {
        "colab_type": "code",
        "id": "p1MTaykOfE2-",
        "colab": {}
      },
      "cell_type": "code",
      "source": [
        "### (Optional) \n",
        "### TODO: Test performance of anotherface detection algorithm.\n",
        "### Feel free to use as many code cells as needed."
      ],
      "execution_count": 0,
      "outputs": []
    },
    {
      "metadata": {
        "colab_type": "text",
        "id": "K8oAwDrwfE3A"
      },
      "cell_type": "markdown",
      "source": [
        "---\n",
        "<a id='step2'></a>\n",
        "## Step 2: Detect Dogs\n",
        "\n",
        "In this section, we use a [pre-trained model](http://pytorch.org/docs/master/torchvision/models.html) to detect dogs in images.  \n",
        "\n",
        "### Obtain Pre-trained VGG-16 Model\n",
        "\n",
        "The code cell below downloads the VGG-16 model, along with weights that have been trained on [ImageNet](http://www.image-net.org/), a very large, very popular dataset used for image classification and other vision tasks.  ImageNet contains over 10 million URLs, each linking to an image containing an object from one of [1000 categories](https://gist.github.com/yrevar/942d3a0ac09ec9e5eb3a).  "
      ]
    },
    {
      "metadata": {
        "colab_type": "code",
        "id": "O1e-_68qfE3B",
        "outputId": "8567de77-f632-41d5-d61c-d634e5723a75",
        "colab": {
          "base_uri": "https://localhost:8080/",
          "height": 54
        }
      },
      "cell_type": "code",
      "source": [
        "# define VGG16 model\n",
        "VGG16 = models.vgg16(pretrained=True)\n",
        "\n",
        "# set model to evaluation mode\n",
        "VGG16.eval()\n",
        "\n",
        "# do not track gradients for the model parameters\n",
        "for param in VGG16.parameters():\n",
        "    param.requires_grad = False\n",
        "\n",
        "# check if CUDA is available\n",
        "use_cuda = torch.cuda.is_available()\n",
        "\n",
        "# move model to GPU if CUDA is available\n",
        "if use_cuda:\n",
        "    VGG16 = VGG16.cuda()"
      ],
      "execution_count": 11,
      "outputs": [
        {
          "output_type": "stream",
          "text": [
            "Downloading: \"https://download.pytorch.org/models/vgg16-397923af.pth\" to /root/.torch/models/vgg16-397923af.pth\n",
            "553433881it [00:18, 29328488.08it/s]\n"
          ],
          "name": "stderr"
        }
      ]
    },
    {
      "metadata": {
        "colab_type": "text",
        "id": "8jiHIqxWfE3D"
      },
      "cell_type": "markdown",
      "source": [
        "Given an image, this pre-trained VGG-16 model returns a prediction (derived from the 1000 possible categories in ImageNet) for the object that is contained in the image."
      ]
    },
    {
      "metadata": {
        "colab_type": "text",
        "id": "_t_5RTmwfE3F"
      },
      "cell_type": "markdown",
      "source": [
        "### (IMPLEMENTATION) Making Predictions with a Pre-trained Model\n",
        "\n",
        "In the next code cell, you will write a function that accepts a path to an image (such as `'dogImages/train/001.Affenpinscher/Affenpinscher_00001.jpg'`) as input and returns the index corresponding to the ImageNet class that is predicted by the pre-trained VGG-16 model.  The output should always be an integer between 0 and 999, inclusive.\n",
        "\n",
        "Before writing the function, make sure that you take the time to learn  how to appropriately pre-process tensors for pre-trained models in the [PyTorch documentation](http://pytorch.org/docs/stable/torchvision/models.html)."
      ]
    },
    {
      "metadata": {
        "colab_type": "code",
        "id": "nrjC2ZS4fE3F",
        "colab": {}
      },
      "cell_type": "code",
      "source": [
        "def VGG16_predict(img_path):\n",
        "    '''\n",
        "    Use pre-trained VGG-16 model to obtain index corresponding to \n",
        "    predicted ImageNet class for image at specified path\n",
        "    \n",
        "    Args:\n",
        "        img_path: path to an image\n",
        "        \n",
        "    Returns:\n",
        "        Index corresponding to VGG-16 model's prediction\n",
        "    '''\n",
        "    \n",
        "    ## DONE: Complete the function.\n",
        "    ## Load and pre-process an image from the given img_path\n",
        "    compose = transforms.Compose([\n",
        "        transforms.Resize(224),\n",
        "        transforms.CenterCrop(224),\n",
        "        transforms.ToTensor(),\n",
        "        transforms.Normalize(mean=[0.485, 0.456, 0.406],\n",
        "                             std=[0.229, 0.224, 0.225])\n",
        "    ])\n",
        "    \n",
        "    image = Image.open(img_path)\n",
        "\n",
        "    image = compose(image)\n",
        "    image = image[None,:]\n",
        "    \n",
        "    if use_cuda:\n",
        "        image = image.cuda()\n",
        "        \n",
        "    ## Return the *index* of the predicted class for that image\n",
        "    prediction = VGG16(image)\n",
        "    \n",
        "    # predicted class index\n",
        "    _, top_class = prediction.topk(1)\n",
        "    return top_class.item()"
      ],
      "execution_count": 0,
      "outputs": []
    },
    {
      "metadata": {
        "colab_type": "text",
        "id": "4CD8ZZh0fE3H"
      },
      "cell_type": "markdown",
      "source": [
        "### (IMPLEMENTATION) Write a Dog Detector\n",
        "\n",
        "While looking at the [dictionary](https://gist.github.com/yrevar/942d3a0ac09ec9e5eb3a), you will notice that the categories corresponding to dogs appear in an uninterrupted sequence and correspond to dictionary keys 151-268, inclusive, to include all categories from `'Chihuahua'` to `'Mexican hairless'`.  Thus, in order to check to see if an image is predicted to contain a dog by the pre-trained VGG-16 model, we need only check if the pre-trained model predicts an index between 151 and 268 (inclusive).\n",
        "\n",
        "Use these ideas to complete the `dog_detector` function below, which returns `True` if a dog is detected in an image (and `False` if not)."
      ]
    },
    {
      "metadata": {
        "colab_type": "code",
        "id": "Z6wXG_SIfE3I",
        "colab": {}
      },
      "cell_type": "code",
      "source": [
        "### returns \"True\" if a dog is detected in the image stored at img_path\n",
        "def dog_detector(img_path):\n",
        "    ## DONE: Complete the function.\n",
        "    \n",
        "    prediction = VGG16_predict(img_path)\n",
        "    \n",
        "    # true/false\n",
        "    return prediction >= 151 and prediction <= 268"
      ],
      "execution_count": 0,
      "outputs": []
    },
    {
      "metadata": {
        "colab_type": "text",
        "id": "Z6uJjl-6fE3K"
      },
      "cell_type": "markdown",
      "source": [
        "### (IMPLEMENTATION) Assess the Dog Detector\n",
        "\n",
        "__Question 2:__ Use the code cell below to test the performance of your `dog_detector` function.  \n",
        "- What percentage of the images in `human_files_short` have a detected dog?  \n",
        "- What percentage of the images in `dog_files_short` have a detected dog?"
      ]
    },
    {
      "metadata": {
        "colab_type": "text",
        "id": "j04oAfz2fE3L"
      },
      "cell_type": "markdown",
      "source": [
        "__Answer:__  \n",
        "Dogs detected in human images\t__```0.0%```__  \n",
        "Dogs detected in dog images\t__```100.0%```__\n"
      ]
    },
    {
      "metadata": {
        "colab_type": "code",
        "id": "ht3TTjRufE3L",
        "outputId": "466b2dda-f523-4f11-c5df-0fcf099ed808",
        "colab": {
          "base_uri": "https://localhost:8080/",
          "height": 54
        }
      },
      "cell_type": "code",
      "source": [
        "### DONE: Test the performance of the dog_detector function\n",
        "### on the images in human_files_short and dog_files_short.\n",
        "detections_in_human_files = np.mean([dog_detector(img) for img in human_files_short]) * 100\n",
        "print(f'Dogs detected in human images\\t{detections_in_human_files:2}%')\n",
        "\n",
        "detections_in_dog_files = np.mean([dog_detector(img) for img in dog_files_short]) * 100\n",
        "print(f'Dogs detected in dog images\\t{detections_in_dog_files:2}%')"
      ],
      "execution_count": 14,
      "outputs": [
        {
          "output_type": "stream",
          "text": [
            "Dogs detected in human images\t2.0%\n",
            "Dogs detected in dog images\t100.0%\n"
          ],
          "name": "stdout"
        }
      ]
    },
    {
      "metadata": {
        "colab_type": "text",
        "id": "reR0WfZlfE3T"
      },
      "cell_type": "markdown",
      "source": [
        "We suggest VGG-16 as a potential network to detect dog images in your algorithm, but you are free to explore other pre-trained networks (such as [Inception-v3](http://pytorch.org/docs/master/torchvision/models.html#inception-v3), [ResNet-50](http://pytorch.org/docs/master/torchvision/models.html#id3), etc).  Please use the code cell below to test other pre-trained PyTorch models.  If you decide to pursue this _optional_ task, report performance on `human_files_short` and `dog_files_short`."
      ]
    },
    {
      "metadata": {
        "colab_type": "code",
        "id": "wQ-ctu1FfE3V",
        "colab": {}
      },
      "cell_type": "code",
      "source": [
        "### (Optional) \n",
        "### TODO: Report the performance of another pre-trained network.\n",
        "### Feel free to use as many code cells as needed."
      ],
      "execution_count": 0,
      "outputs": []
    },
    {
      "metadata": {
        "colab_type": "text",
        "id": "CSr8yRkyfE3a"
      },
      "cell_type": "markdown",
      "source": [
        "---\n",
        "<a id='step3'></a>\n",
        "## Step 3: Create a CNN to Classify Dog Breeds (from Scratch)\n",
        "\n",
        "Now that we have functions for detecting humans and dogs in images, we need a way to predict breed from images.  In this step, you will create a CNN that classifies dog breeds.  You must create your CNN _from scratch_ (so, you can't use transfer learning _yet_!), and you must attain a test accuracy of at least 10%.  In Step 4 of this notebook, you will have the opportunity to use transfer learning to create a CNN that attains greatly improved accuracy.\n",
        "\n",
        "We mention that the task of assigning breed to dogs from images is considered exceptionally challenging.  To see why, consider that *even a human* would have trouble distinguishing between a Brittany and a Welsh Springer Spaniel.  \n",
        "\n",
        "Brittany | Welsh Springer Spaniel\n",
        "- | - \n",
        "<img src=\"https://github.com/silviomori/udacity-deeplearning-nanodegree-fork/blob/silviomori-project-dog-classification/project-dog-classification/images/Brittany_02625.jpg?raw=1\" width=\"100\"> | <img src=\"https://github.com/silviomori/udacity-deeplearning-nanodegree-fork/blob/silviomori-project-dog-classification/project-dog-classification/images/Welsh_springer_spaniel_08203.jpg?raw=1\" width=\"200\">\n",
        "\n",
        "It is not difficult to find other dog breed pairs with minimal inter-class variation (for instance, Curly-Coated Retrievers and American Water Spaniels).  \n",
        "\n",
        "Curly-Coated Retriever | American Water Spaniel\n",
        "- | -\n",
        "<img src=\"https://github.com/silviomori/udacity-deeplearning-nanodegree-fork/blob/silviomori-project-dog-classification/project-dog-classification/images/Curly-coated_retriever_03896.jpg?raw=1\" width=\"200\"> | <img src=\"https://github.com/silviomori/udacity-deeplearning-nanodegree-fork/blob/silviomori-project-dog-classification/project-dog-classification/images/American_water_spaniel_00648.jpg?raw=1\" width=\"200\">\n",
        "\n",
        "\n",
        "Likewise, recall that labradors come in yellow, chocolate, and black.  Your vision-based algorithm will have to conquer this high intra-class variation to determine how to classify all of these different shades as the same breed.  \n",
        "\n",
        "Yellow Labrador | Chocolate Labrador | Black Labrador\n",
        "- | -\n",
        "<img src=\"https://github.com/silviomori/udacity-deeplearning-nanodegree-fork/blob/silviomori-project-dog-classification/project-dog-classification/images/Labrador_retriever_06457.jpg?raw=1\" width=\"150\"> | <img src=\"https://github.com/silviomori/udacity-deeplearning-nanodegree-fork/blob/silviomori-project-dog-classification/project-dog-classification/images/Labrador_retriever_06455.jpg?raw=1\" width=\"240\"> | <img src=\"https://github.com/silviomori/udacity-deeplearning-nanodegree-fork/blob/silviomori-project-dog-classification/project-dog-classification/images/Labrador_retriever_06449.jpg?raw=1\" width=\"220\">\n",
        "\n",
        "We also mention that random chance presents an exceptionally low bar: setting aside the fact that the classes are slightly imabalanced, a random guess will provide a correct answer roughly 1 in 133 times, which corresponds to an accuracy of less than 1%.  \n",
        "\n",
        "Remember that the practice is far ahead of the theory in deep learning.  Experiment with many different architectures, and trust your intuition.  And, of course, have fun!\n",
        "\n",
        "### (IMPLEMENTATION) Specify Data Loaders for the Dog Dataset\n",
        "\n",
        "Use the code cell below to write three separate [data loaders](http://pytorch.org/docs/stable/data.html#torch.utils.data.DataLoader) for the training, validation, and test datasets of dog images (located at `dogImages/train`, `dogImages/valid`, and `dogImages/test`, respectively).  You may find [this documentation on custom datasets](http://pytorch.org/docs/stable/torchvision/datasets.html) to be a useful resource.  If you are interested in augmenting your training and/or validation data, check out the wide variety of [transforms](http://pytorch.org/docs/stable/torchvision/transforms.html?highlight=transform)!"
      ]
    },
    {
      "metadata": {
        "colab_type": "code",
        "id": "ktSCWqJTfE3a",
        "outputId": "9959c5ae-a9c9-4cea-9aa0-ad0668d07f7d",
        "colab": {
          "base_uri": "https://localhost:8080/",
          "height": 72
        }
      },
      "cell_type": "code",
      "source": [
        "### DONE: Write data loaders for training, validation, and test sets\n",
        "## Specify appropriate transforms, and batch_sizes\n",
        "\n",
        "# avoid PIL to raise exception if find a truncated image\n",
        "ImageFile.LOAD_TRUNCATED_IMAGES = True\n",
        "\n",
        "# folder where the images are\n",
        "data_dir = 'dogImages/'\n",
        "\n",
        "# how many subprocesses to use for data loading\n",
        "num_workers = 0 # data will be loaded in the main thread\n",
        "\n",
        "# arrays to normalization\n",
        "normalize_mean = np.array([0.485, 0.456, 0.406])\n",
        "normalize_std = np.array([0.229, 0.224, 0.225])\n",
        "\n",
        "## Specify transforms\n",
        "data_transforms = {}\n",
        "\n",
        "# transforms to train data set\n",
        "data_transforms['train'] = transforms.Compose([\n",
        "    transforms.Resize(480),\n",
        "    transforms.RandomRotation(30),\n",
        "    transforms.RandomResizedCrop(224, scale=(224./480, 224./256), ratio=(1.,1.)),\n",
        "    transforms.RandomHorizontalFlip(p=0.5),\n",
        "    transforms.ToTensor(),\n",
        "    transforms.Normalize(\n",
        "        normalize_mean,\n",
        "        normalize_std)\n",
        "    ])\n",
        "\n",
        "# transforms to valid data set\n",
        "data_transforms['valid_test'] = transforms.Compose([\n",
        "    transforms.Resize(224),\n",
        "    transforms.CenterCrop(224),\n",
        "    transforms.ToTensor(),\n",
        "    transforms.Normalize(\n",
        "        normalize_mean,\n",
        "        normalize_std)\n",
        "    ])\n",
        "\n",
        "## Load the datasets with ImageFolder\n",
        "image_datasets = {}\n",
        "image_datasets['train_data'] = datasets.ImageFolder(data_dir + '/train', transform=data_transforms['train'])\n",
        "image_datasets['valid_data'] = datasets.ImageFolder(data_dir + '/valid', transform=data_transforms['valid_test'])\n",
        "image_datasets['test_data'] = datasets.ImageFolder(data_dir + '/test', transform=data_transforms['valid_test'])\n",
        "\n",
        "## Using the image datasets and the transforms, define the dataloaders\n",
        "dataloaders = {}\n",
        "dataloaders['train_data'] = torch.utils.data.DataLoader(image_datasets['train_data'], batch_size=96,  shuffle=True, num_workers=num_workers)\n",
        "dataloaders['valid_data'] = torch.utils.data.DataLoader(image_datasets['valid_data'], batch_size=167, shuffle=False, num_workers=num_workers)\n",
        "dataloaders['test_data']  = torch.utils.data.DataLoader(image_datasets['test_data'],  batch_size=64,  shuffle=False, num_workers=num_workers)\n",
        "\n",
        "print(f\"Train data: {len(dataloaders['train_data'].dataset)} images / {len(dataloaders['train_data'])} batches\")\n",
        "print(f\"Valid data: {len(dataloaders['valid_data'].dataset)} images / {len(dataloaders['valid_data'])} batches\")\n",
        "print(f\"Test  data: {len(dataloaders['test_data'].dataset) } images / {len(dataloaders['test_data']) } batches\")"
      ],
      "execution_count": 16,
      "outputs": [
        {
          "output_type": "stream",
          "text": [
            "Train data: 6680 images / 70 batches\n",
            "Valid data: 835 images / 5 batches\n",
            "Test  data: 836 images / 14 batches\n"
          ],
          "name": "stdout"
        }
      ]
    },
    {
      "metadata": {
        "colab_type": "text",
        "id": "Iq7KMf-3fE3e"
      },
      "cell_type": "markdown",
      "source": [
        "**Question 3:** Describe your chosen procedure for preprocessing the data. \n",
        "- How does your code resize the images (by cropping, stretching, etc)?  What size did you pick for the input tensor, and why?\n",
        "- Did you decide to augment the dataset?  If so, how (through translations, flips, rotations, etc)?  If not, why not?\n"
      ]
    },
    {
      "metadata": {
        "colab_type": "text",
        "id": "SbNoPwWsfE3f"
      },
      "cell_type": "markdown",
      "source": [
        "**Answer**:  \n",
        "\n",
        "__Image size__  \n",
        "I choose to work with an input image of 224x224 pixels which allows me to perform five downsizings (stride = 2), resulting in a 7x7 tensor at the end of the convolutional layers.  \n",
        "\n",
        "__Resizing the image__  \n",
        "To obtain the 224x224 pixels input image I perform the following steps:  \n",
        "\n",
        "_For the training data set:_\n",
        "- Resize the image making its smaller side 480 px, keeping the original aspect ratio.\n",
        "- Make a random crop of 224x224 px, with a scale in the range [224/480, 224/256], maintaining the original aspect ratio. Making the crop in this way is the same as resizing the smaller side of the input image to the range [256, 480] px before performing the 224x224 px crop.  \n",
        "\n",
        "_For the validation and testing data set:_\n",
        "- Resize the image making its smaller edge 224 px, keeping the original aspect ratio.\n",
        "- Make a center crop of 224x224px, maintaining the original aspect ratio.\n",
        "\n",
        "__Data augmentation__  \n",
        "I build my data augmentation method based on that found in the ResNet paper. _(Only for the training data set)._\n",
        "- Translations: I make a random crop of 224x224 px in the resized original image. The original image is resized with its shorter side randomly sampled in the range [256, 480] px.\n",
        "- Flips: A horizontal flip has a 50% chance of being performed.\n",
        "- Rotations: The image is rotated in a range of [+30, -30] degrees."
      ]
    },
    {
      "metadata": {
        "colab_type": "text",
        "id": "3wf3axBofE3g"
      },
      "cell_type": "markdown",
      "source": [
        "### (IMPLEMENTATION) Model Architecture\n",
        "\n",
        "Create a CNN to classify dog breed.  Use the template in the code cell below."
      ]
    },
    {
      "metadata": {
        "colab_type": "code",
        "id": "WCpE3-BNfE3h",
        "colab": {}
      },
      "cell_type": "code",
      "source": [
        "# define the CNN architecture\n",
        "class Net(nn.Module):\n",
        "    ### DONE: choose an architecture, and complete the class\n",
        "    def __init__(self):\n",
        "        super(Net, self).__init__()\n",
        "        ## Define layers of a CNN\n",
        "        \n",
        "        ## Convolutional layers\n",
        "        # in: 224x224    out: 112x112\n",
        "        self.conv1    = nn.Conv2d(    3,  64, 7, padding=3, stride=2)\n",
        "        self.conv1_bn = nn.BatchNorm2d(   64)\n",
        "        \n",
        "        # in: 112x112    out: 56x56\n",
        "        self.conv2_1    = nn.Conv2d( 64,  64, 3, padding=1)\n",
        "        self.conv2_1_bn = nn.BatchNorm2d( 64)\n",
        "        self.conv2_2    = nn.Conv2d( 64,  64, 3, padding=1)\n",
        "        self.conv2_2_bn = nn.BatchNorm2d( 64)\n",
        "        \n",
        "        # in: 56x56    out: 28x28\n",
        "        self.conv3_in   = nn.Conv2d( 64, 128, 1, padding=1)\n",
        "        self.conv3_1    = nn.Conv2d(128, 128, 3, padding=1)\n",
        "        self.conv3_1_bn = nn.BatchNorm2d(128)\n",
        "        self.conv3_2    = nn.Conv2d(128, 128, 3, padding=1)\n",
        "        self.conv3_2_bn = nn.BatchNorm2d(128)\n",
        "        \n",
        "        # in: 28x28    out: 14x14\n",
        "        self.conv4_in   = nn.Conv2d(128, 256, 1, padding=1)\n",
        "        self.conv4_1    = nn.Conv2d(256, 256, 3, padding=1)\n",
        "        self.conv4_1_bn = nn.BatchNorm2d(256)\n",
        "        self.conv4_2    = nn.Conv2d(256, 256, 3, padding=1)\n",
        "        self.conv4_2_bn = nn.BatchNorm2d(256)\n",
        "        \n",
        "        # in: 14x14    out: 7x7\n",
        "        self.conv5_in   = nn.Conv2d(256, 512, 1, padding=1)\n",
        "        self.conv5_1    = nn.Conv2d(512, 512, 3, padding=1)\n",
        "        self.conv5_1_bn = nn.BatchNorm2d(512)\n",
        "        self.conv5_2    = nn.Conv2d(512, 512, 3, padding=1)\n",
        "        self.conv5_2_bn = nn.BatchNorm2d(512)\n",
        "        \n",
        "        # Downsizing\n",
        "        self.maxpool = nn.MaxPool2d(          3, padding=1, stride=2)\n",
        "        \n",
        "        # in: 7x7    out: 1x1\n",
        "        self.avgpool = nn.AvgPool2d(7)\n",
        "        \n",
        "        # Activation\n",
        "        self.activation = nn.ReLU()\n",
        "        \n",
        "        # Fully connected layers\n",
        "        self.fc = nn.Linear(512,133)\n",
        "                                \n",
        "        \n",
        "    def forward(self, x):\n",
        "        ## Define forward behavior\n",
        "        \n",
        "        ## Stack 1\n",
        "        x = self.conv1(x)\n",
        "        x = self.conv1_bn(x)\n",
        "        x = self.activation(x)\n",
        "        \n",
        "        ## Stack 2\n",
        "        shortcut = x\n",
        "        \n",
        "        x = self.conv2_1(x)\n",
        "        x = self.conv2_1_bn(x)\n",
        "        x = self.activation(x)\n",
        "        \n",
        "        x = self.conv2_2(x)\n",
        "        x = self.conv2_2_bn(x)\n",
        "        x = self.activation(x)\n",
        "        \n",
        "        x += shortcut\n",
        "            \n",
        "        x = self.maxpool(x)\n",
        "        \n",
        "        ## Stack 3\n",
        "        x = self.conv3_in(x)\n",
        "        x = self.activation(x)\n",
        "        \n",
        "        shortcut = x\n",
        "        \n",
        "        x = self.conv3_1(x)\n",
        "        x = self.conv3_1_bn(x)\n",
        "        x = self.activation(x)\n",
        "        \n",
        "        x = self.conv3_2(x)\n",
        "        x = self.conv3_2_bn(x)\n",
        "        x = self.activation(x)\n",
        "        \n",
        "        x += shortcut\n",
        "        \n",
        "        x = self.maxpool(x)\n",
        "        \n",
        "        ## Stack 4\n",
        "        x = self.conv4_in(x)\n",
        "        x = self.activation(x)\n",
        "        \n",
        "        shortcut = x\n",
        "        \n",
        "        x = self.conv4_1(x)\n",
        "        x = self.conv4_1_bn(x)\n",
        "        x = self.activation(x)\n",
        "        \n",
        "        x = self.conv4_2(x)\n",
        "        x = self.conv4_2_bn(x)\n",
        "        x = self.activation(x)\n",
        "        \n",
        "        x += shortcut\n",
        "        \n",
        "        x = self.maxpool(x)\n",
        "        \n",
        "        ## Stack 5\n",
        "        x = self.conv5_in(x)\n",
        "        x = self.activation(x)\n",
        "        \n",
        "        shortcut = x\n",
        "        \n",
        "        x = self.conv5_1(x)\n",
        "        x = self.conv5_1_bn(x)\n",
        "        x = self.activation(x)\n",
        "        \n",
        "        x = self.conv5_2(x)\n",
        "        x = self.conv5_2_bn(x)\n",
        "        x = self.activation(x)\n",
        "        \n",
        "        x += shortcut\n",
        "            \n",
        "        x = self.maxpool(x)\n",
        "        \n",
        "        x = self.avgpool(x)\n",
        "        \n",
        "        # Classifier\n",
        "        x = x.squeeze()\n",
        "        x = self.fc(x)\n",
        "        \n",
        "        return x\n",
        "\n",
        "#-#-# You so NOT have to modify the code below this line. #-#-#\n",
        "\n",
        "# instantiate the CNN\n",
        "model_scratch = Net()\n",
        "\n",
        "# move tensors to GPU if CUDA is available\n",
        "use_cuda = torch.cuda.is_available()\n",
        "if use_cuda:\n",
        "    model_scratch.cuda()"
      ],
      "execution_count": 0,
      "outputs": []
    },
    {
      "metadata": {
        "colab_type": "text",
        "id": "Jk2CWxt2fE3k"
      },
      "cell_type": "markdown",
      "source": [
        "__Question 4:__ Outline the steps you took to get to your final CNN architecture and your reasoning at each step.  "
      ]
    },
    {
      "metadata": {
        "colab_type": "text",
        "id": "gBfF6NAXfE3l"
      },
      "cell_type": "markdown",
      "source": [
        "__Answer:__  \n",
        "\n",
        "_That is not my final CNN architecture yet; just testing some possibilities._  \n",
        "\n",
        "This CNN architecture is inspired by ResNet paper.  \n",
        "\n",
        "The first convolutional stack has 64 filters, 7x7 wide each, with a stride of 2.  \n",
        "\n",
        "Following stacks double the number of filters and reduce the input size by half. The last stack produces 512 filters, 7x7 wide each one.  \n",
        "\n",
        "1x1 layers are responsible for the increase in the number of filters.  \n",
        "Max-pooling layers with a stride of 2 are responsible for the decrease in the dimensions of the filters.  \n",
        "Batch normalization is used to avoid vanishing/exploding gradients.  \n",
        "\n",
        "The main characteristic of this architecture is the use of __shortcuts__.  \n",
        "Each stack has a shortcut between the input and the output.  \n",
        "After applying the activation function, the stack output receives the shortcut. Thus, the output of each stack is: y = f(x) + x.  \n",
        "Shortcuts expedite network training, allowing a deeper network design."
      ]
    },
    {
      "metadata": {
        "colab_type": "text",
        "id": "5JtBZSiLfE3m"
      },
      "cell_type": "markdown",
      "source": [
        "### (IMPLEMENTATION) Specify Loss Function and Optimizer\n",
        "\n",
        "Use the next code cell to specify a [loss function](http://pytorch.org/docs/stable/nn.html#loss-functions) and [optimizer](http://pytorch.org/docs/stable/optim.html).  Save the chosen loss function as `criterion_scratch`, and the optimizer as `optimizer_scratch` below."
      ]
    },
    {
      "metadata": {
        "colab_type": "code",
        "id": "s7Wv_MN_fE3m",
        "colab": {}
      },
      "cell_type": "code",
      "source": [
        "### DONE: select loss function\n",
        "criterion_scratch = nn.CrossEntropyLoss()\n",
        "\n",
        "### DONE: select optimizer\n",
        "optimizer_scratch = optim.Adagrad(model_scratch.parameters(), lr=0.01, weight_decay=0.001)\n",
        "\n",
        "scheduler_scratch = optim.lr_scheduler.ReduceLROnPlateau(\n",
        "    optimizer_scratch, mode='min', factor=0.1, patience=14, verbose=True,\n",
        "    threshold=0.01, threshold_mode='abs', cooldown=0, min_lr=0, eps=1e-08)"
      ],
      "execution_count": 0,
      "outputs": []
    },
    {
      "metadata": {
        "colab_type": "text",
        "id": "UDMVZPs8fE3o"
      },
      "cell_type": "markdown",
      "source": [
        "### (IMPLEMENTATION) Train and Validate the Model\n",
        "\n",
        "Train and validate your model in the code cell below.  [Save the final model parameters](http://pytorch.org/docs/master/notes/serialization.html) at filepath `'model_scratch.pt'`."
      ]
    },
    {
      "metadata": {
        "colab_type": "code",
        "id": "6v9eU5N6fE3o",
        "colab": {}
      },
      "cell_type": "code",
      "source": [
        "def train(n_epochs, loaders, model, optimizer, criterion, use_cuda,\n",
        "          save_path, lr_scheduler=None):\n",
        "    \"\"\"returns trained model\"\"\"\n",
        "    # initialize tracker for minimum validation loss\n",
        "    valid_loss_min = np.Inf \n",
        "    \n",
        "    # define how much epochs to train before run the validation loop\n",
        "    validate_for_each = 1\n",
        "    validate_after = 5\n",
        "    \n",
        "    for epoch in range(1, n_epochs+1):\n",
        "        # initialize variables to monitor training and validation loss\n",
        "        train_loss = 0.0\n",
        "        valid_loss = 0.0\n",
        "        \n",
        "        ###################\n",
        "        # train the model #\n",
        "        ###################\n",
        "        model.train()\n",
        "        for batch_idx, (data, target) in enumerate(dataloaders['train_data']):\n",
        "            # move to GPU\n",
        "            if use_cuda:\n",
        "                data, target = data.cuda(), target.cuda()\n",
        "                \n",
        "            ## find the loss and update the model parameters accordingly\n",
        "            # clear optimizer\n",
        "            optimizer.zero_grad()\n",
        "            \n",
        "            # pass train batch through model feed-forward\n",
        "            output = model(data)\n",
        "            \n",
        "            # calculate the loss fr this train batch\n",
        "            loss = criterion(output, target)\n",
        "            \n",
        "            # do the backpropagation\n",
        "            loss.backward()\n",
        "            \n",
        "            # optimize weights\n",
        "            optimizer.step()\n",
        "            \n",
        "            ## record the average training loss\n",
        "            train_loss += (1 / (batch_idx + 1)) * (loss.item() - train_loss)\n",
        "            \n",
        "            sys.stdout.write(f'\\rEpoch: {epoch} '+\n",
        "                             f'\\tTraining Loss: {train_loss:.6f} '+\n",
        "                             f'\\tbatchs: {batch_idx+1}')\n",
        "            \n",
        "        ######################    \n",
        "        # validate the model #\n",
        "        ######################\n",
        "        if epoch > validate_after and epoch % validate_for_each == 0:\n",
        "            model.eval()\n",
        "            with torch.no_grad():\n",
        "                for batch_idx, (data, target) in enumerate(dataloaders['valid_data']):\n",
        "                    # move to GPU\n",
        "                    if use_cuda:\n",
        "                        data, target = data.cuda(), target.cuda()\n",
        "                        \n",
        "                    # get predictions for this validation batch\n",
        "                    output = model(data)\n",
        "                    \n",
        "                    ## update the average validation loss\n",
        "                    # calculate loss for this validation batch\n",
        "                    loss = criterion(output, target)\n",
        "                    # Track validation loss\n",
        "                    valid_loss += (1 / (batch_idx + 1)) * (loss.item() - valid_loss)\n",
        "                    \n",
        "                    sys.stdout.write(f'\\rEpoch: {epoch} '+\n",
        "                                     f'\\tTraining Loss: {train_loss:.6f} '+\n",
        "                                     f'\\tValidation Loss: {valid_loss:.6f} '+\n",
        "                                     f'\\tbatchs: {batch_idx+1}')\n",
        "                    \n",
        "                # print training/validation statistics \n",
        "                print(f'\\rEpoch: {epoch} '+\n",
        "                      f'\\tTraining Loss: {train_loss:.6f} '+\n",
        "                      f'\\tValidation Loss: {valid_loss:.6f}')\n",
        "                \n",
        "                if lr_scheduler:\n",
        "                    lr_scheduler.step(valid_loss)\n",
        "                    \n",
        "            ## DONE: save the model if validation loss has decreased\n",
        "            if valid_loss < valid_loss_min:\n",
        "                print(f'\\t\\t\\tValid loss decreasing: '+\n",
        "                      f'{valid_loss_min:.6f} --> {valid_loss:.6f} ... Saving model')\n",
        "\n",
        "                checkpoint = {'model_state_dict': model.state_dict(),\n",
        "                              'optimizer_state_dict': optimizer.state_dict(),\n",
        "                              'valid_loss_min': valid_loss_min,\n",
        "                              'train_loss': train_loss}\n",
        "                torch.save(checkpoint, save_path)\n",
        "\n",
        "                valid_loss_min = valid_loss\n",
        "        else:\n",
        "            print(f'\\rEpoch: {epoch} '+\n",
        "                  f'\\tTraining Loss: {train_loss:.6f}')\n",
        "            \n",
        "    # return trained model\n",
        "    return model"
      ],
      "execution_count": 0,
      "outputs": []
    },
    {
      "metadata": {
        "colab_type": "code",
        "id": "lsMMZJD5fE3q",
        "outputId": "33d326f4-e241-4dbf-90f9-f69d92f7a14b",
        "colab": {
          "base_uri": "https://localhost:8080/",
          "height": 2581
        }
      },
      "cell_type": "code",
      "source": [
        "# train the model\n",
        "checkpoint_path = gdrive_dir+'model_scratch.pt'\n",
        "\n",
        "model_scratch = train(125, dataloaders, model_scratch, optimizer_scratch, \n",
        "                      criterion_scratch, use_cuda, checkpoint_path, scheduler_scratch)"
      ],
      "execution_count": 0,
      "outputs": [
        {
          "output_type": "stream",
          "text": [
            "Epoch: 1 \tTraining Loss: 4.936121\n",
            "Epoch: 2 \tTraining Loss: 4.641235\n",
            "Epoch: 3 \tTraining Loss: 4.385031\n",
            "Epoch: 4 \tTraining Loss: 4.225672\n",
            "Epoch: 5 \tTraining Loss: 4.132686\n",
            "Epoch: 6 \tTraining Loss: 4.026400\n",
            "Epoch: 7 \tTraining Loss: 3.938482\n",
            "Epoch: 8 \tTraining Loss: 3.832622\n",
            "Epoch: 9 \tTraining Loss: 3.734075\n",
            "Epoch: 10 \tTraining Loss: 3.632342\n",
            "Epoch: 11 \tTraining Loss: 3.533831\n",
            "Epoch: 12 \tTraining Loss: 3.440946\n",
            "Epoch: 13 \tTraining Loss: 3.326146\n",
            "Epoch: 14 \tTraining Loss: 3.235063\n",
            "Epoch: 15 \tTraining Loss: 3.152582\n",
            "Epoch: 16 \tTraining Loss: 3.047827\n",
            "Epoch: 17 \tTraining Loss: 2.962177\n",
            "Epoch: 18 \tTraining Loss: 2.872804\n",
            "Epoch: 19 \tTraining Loss: 2.814906\n",
            "Epoch: 20 \tTraining Loss: 2.729998\n",
            "Epoch: 21 \tTraining Loss: 2.670357\n",
            "Epoch: 22 \tTraining Loss: 2.602905\n",
            "Epoch: 23 \tTraining Loss: 2.509370\n",
            "Epoch: 24 \tTraining Loss: 2.442017\n",
            "Epoch: 25 \tTraining Loss: 2.377395\n",
            "Epoch: 26 \tTraining Loss: 2.317353\n",
            "Epoch: 27 \tTraining Loss: 2.254175\n",
            "Epoch: 28 \tTraining Loss: 2.174590\n",
            "Epoch: 29 \tTraining Loss: 2.086415\n",
            "Epoch: 30 \tTraining Loss: 2.028360\n",
            "Epoch: 31 \tTraining Loss: 1.963057\n",
            "Epoch: 32 \tTraining Loss: 1.899605\n",
            "Epoch: 33 \tTraining Loss: 1.829634\n",
            "Epoch: 34 \tTraining Loss: 1.775740\n",
            "Epoch: 35 \tTraining Loss: 1.731560\n",
            "Epoch: 36 \tTraining Loss: 1.652968\n",
            "Epoch: 37 \tTraining Loss: 1.590501\n",
            "Epoch: 38 \tTraining Loss: 1.541483\n",
            "Epoch: 39 \tTraining Loss: 1.499088\n",
            "Epoch: 40 \tTraining Loss: 1.468805\n",
            "Epoch: 41 \tTraining Loss: 1.400393\n",
            "Epoch: 42 \tTraining Loss: 1.364731\n",
            "Epoch: 43 \tTraining Loss: 1.330562\n",
            "Epoch: 44 \tTraining Loss: 1.290875\n",
            "Epoch: 45 \tTraining Loss: 1.238402\n",
            "Epoch: 46 \tTraining Loss: 1.214446\n",
            "Epoch: 47 \tTraining Loss: 1.194691\n",
            "Epoch: 48 \tTraining Loss: 1.137824\n",
            "Epoch: 49 \tTraining Loss: 1.108162\n",
            "Epoch: 50 \tTraining Loss: 1.092689\n",
            "Epoch: 51 \tTraining Loss: 1.041832\n",
            "Epoch: 52 \tTraining Loss: 1.035543\n",
            "Epoch: 53 \tTraining Loss: 0.976289\n",
            "Epoch: 54 \tTraining Loss: 0.960455\n",
            "Epoch: 55 \tTraining Loss: 0.941889\n",
            "Epoch: 56 \tTraining Loss: 0.924816\n",
            "Epoch: 57 \tTraining Loss: 0.888035\n",
            "Epoch: 58 \tTraining Loss: 0.866644\n",
            "Epoch: 59 \tTraining Loss: 0.837808\n",
            "Epoch: 60 \tTraining Loss: 0.829476\n",
            "Epoch: 61 \tTraining Loss: 0.807138\n",
            "Epoch: 62 \tTraining Loss: 0.783283\n",
            "Epoch: 63 \tTraining Loss: 0.771376\n",
            "Epoch: 64 \tTraining Loss: 0.740910\n",
            "Epoch: 65 \tTraining Loss: 0.725355\n",
            "Epoch: 66 \tTraining Loss: 0.731146\n",
            "Epoch: 67 \tTraining Loss: 0.701770\n",
            "Epoch: 68 \tTraining Loss: 0.681349\n",
            "Epoch: 69 \tTraining Loss: 0.660025\n",
            "Epoch: 70 \tTraining Loss: 0.627764\n",
            "Epoch: 71 \tTraining Loss: 0.631142 \tValidation Loss: 1.487516\n",
            "\t\t\tValid loss decreasing: inf --> 1.487516 ... Saving model\n",
            "Epoch: 72 \tTraining Loss: 0.610183 \tValidation Loss: 1.300491\n",
            "\t\t\tValid loss decreasing: 1.487516 --> 1.300491 ... Saving model\n",
            "Epoch: 73 \tTraining Loss: 0.594320 \tValidation Loss: 1.312355\n",
            "Epoch: 74 \tTraining Loss: 0.585282 \tValidation Loss: 1.311011\n",
            "Epoch: 75 \tTraining Loss: 0.590228 \tValidation Loss: 1.249169\n",
            "\t\t\tValid loss decreasing: 1.300491 --> 1.249169 ... Saving model\n",
            "Epoch: 76 \tTraining Loss: 0.571491 \tValidation Loss: 1.567351\n",
            "Epoch: 77 \tTraining Loss: 0.549714 \tValidation Loss: 1.614948\n",
            "Epoch: 78 \tTraining Loss: 0.556444 \tValidation Loss: 1.225301\n",
            "\t\t\tValid loss decreasing: 1.249169 --> 1.225301 ... Saving model\n",
            "Epoch: 79 \tTraining Loss: 0.540559 \tValidation Loss: 1.242464\n",
            "Epoch: 80 \tTraining Loss: 0.505603 \tValidation Loss: 1.487055\n",
            "Epoch: 81 \tTraining Loss: 0.492205 \tValidation Loss: 1.529557\n",
            "Epoch: 82 \tTraining Loss: 0.510376 \tValidation Loss: 1.142445\n",
            "\t\t\tValid loss decreasing: 1.225301 --> 1.142445 ... Saving model\n",
            "Epoch: 83 \tTraining Loss: 0.474189 \tValidation Loss: 1.234231\n",
            "Epoch: 84 \tTraining Loss: 0.478601 \tValidation Loss: 1.340832\n",
            "Epoch: 85 \tTraining Loss: 0.475317 \tValidation Loss: 1.399383\n",
            "Epoch: 86 \tTraining Loss: 0.444713 \tValidation Loss: 1.374262\n",
            "Epoch: 87 \tTraining Loss: 0.436213 \tValidation Loss: 1.324494\n",
            "Epoch: 88 \tTraining Loss: 0.428403 \tValidation Loss: 1.177611\n",
            "Epoch: 89 \tTraining Loss: 0.416039 \tValidation Loss: 1.429265\n",
            "Epoch: 90 \tTraining Loss: 0.403808 \tValidation Loss: 1.761613\n",
            "Epoch: 91 \tTraining Loss: 0.401317 \tValidation Loss: 1.711442\n",
            "Epoch: 92 \tTraining Loss: 0.403850 \tValidation Loss: 1.439471\n",
            "Epoch: 93 \tTraining Loss: 0.385741 \tValidation Loss: 1.183547\n",
            "Epoch: 94 \tTraining Loss: 0.401765 \tValidation Loss: 1.282289\n",
            "Epoch: 95 \tTraining Loss: 0.375338 \tValidation Loss: 1.618475\n",
            "Epoch: 96 \tTraining Loss: 0.356718 \tValidation Loss: 1.284851\n",
            "Epoch: 97 \tTraining Loss: 0.372240 \tValidation Loss: 1.174691\n",
            "Epoch    26: reducing learning rate of group 0 to 1.0000e-03.\n",
            "Epoch: 98 \tTraining Loss: 0.296228 \tValidation Loss: 0.992693\n",
            "\t\t\tValid loss decreasing: 1.142445 --> 0.992693 ... Saving model\n",
            "Epoch: 99 \tTraining Loss: 0.267065 \tValidation Loss: 0.973846\n",
            "\t\t\tValid loss decreasing: 0.992693 --> 0.973846 ... Saving model\n",
            "Epoch: 100 \tTraining Loss: 0.250218 \tValidation Loss: 0.976312\n",
            "Epoch: 101 \tTraining Loss: 0.248318 \tValidation Loss: 0.971850\n",
            "\t\t\tValid loss decreasing: 0.973846 --> 0.971850 ... Saving model\n",
            "Epoch: 102 \tTraining Loss: 0.238444 \tValidation Loss: 0.975117\n",
            "Epoch: 103 \tTraining Loss: 0.245172 \tValidation Loss: 0.975449\n",
            "Epoch: 104 \tTraining Loss: 0.234491 \tValidation Loss: 0.965461\n",
            "\t\t\tValid loss decreasing: 0.971850 --> 0.965461 ... Saving model\n",
            "Epoch: 105 \tTraining Loss: 0.236672 \tValidation Loss: 0.963569\n",
            "\t\t\tValid loss decreasing: 0.965461 --> 0.963569 ... Saving model\n",
            "Epoch: 106 \tTraining Loss: 0.227807 \tValidation Loss: 0.958981\n",
            "\t\t\tValid loss decreasing: 0.963569 --> 0.958981 ... Saving model\n",
            "Epoch: 107 \tTraining Loss: 0.231317 \tValidation Loss: 0.963495\n",
            "Epoch: 108 \tTraining Loss: 0.241158 \tValidation Loss: 0.955129\n",
            "\t\t\tValid loss decreasing: 0.958981 --> 0.955129 ... Saving model\n",
            "Epoch: 109 \tTraining Loss: 0.235557 \tValidation Loss: 0.965432\n",
            "Epoch: 110 \tTraining Loss: 0.225436 \tValidation Loss: 0.959493\n",
            "Epoch: 111 \tTraining Loss: 0.234178 \tValidation Loss: 0.958856\n",
            "Epoch: 112 \tTraining Loss: 0.226289 \tValidation Loss: 0.961236\n",
            "Epoch: 113 \tTraining Loss: 0.222772 \tValidation Loss: 0.968227\n",
            "Epoch: 114 \tTraining Loss: 0.229167 \tValidation Loss: 0.952002\n",
            "\t\t\tValid loss decreasing: 0.955129 --> 0.952002 ... Saving model\n",
            "Epoch: 115 \tTraining Loss: 0.217159 \tValidation Loss: 0.951126\n",
            "\t\t\tValid loss decreasing: 0.952002 --> 0.951126 ... Saving model\n",
            "Epoch: 116 \tTraining Loss: 0.217775 \tValidation Loss: 0.954174\n",
            "Epoch: 117 \tTraining Loss: 0.221804 \tValidation Loss: 0.952939\n",
            "Epoch: 118 \tTraining Loss: 0.218499 \tValidation Loss: 0.956570\n",
            "Epoch: 119 \tTraining Loss: 0.216764 \tValidation Loss: 0.972921\n",
            "Epoch: 120 \tTraining Loss: 0.211324 \tValidation Loss: 0.973547\n",
            "Epoch: 121 \tTraining Loss: 0.213783 \tValidation Loss: 0.964674\n",
            "Epoch: 122 \tTraining Loss: 0.204556 \tValidation Loss: 0.957253\n",
            "Epoch: 123 \tTraining Loss: 0.210016 \tValidation Loss: 0.964063\n",
            "Epoch: 124 \tTraining Loss: 0.213392 \tValidation Loss: 0.953400\n",
            "Epoch: 125 \tTraining Loss: 0.204541 \tValidation Loss: 0.961094\n"
          ],
          "name": "stdout"
        }
      ]
    },
    {
      "metadata": {
        "colab_type": "code",
        "id": "XXcfBtuWfE3t",
        "colab": {}
      },
      "cell_type": "code",
      "source": [
        "# load the model that got the best validation accuracy\n",
        "checkpoint = torch.load(checkpoint_path)\n",
        "model_scratch.load_state_dict(checkpoint['model_state_dict'])\n",
        "optimizer_scratch.load_state_dict(checkpoint['optimizer_state_dict'])"
      ],
      "execution_count": 0,
      "outputs": []
    },
    {
      "metadata": {
        "colab_type": "text",
        "id": "-AUib-dFfE3w"
      },
      "cell_type": "markdown",
      "source": [
        "### (IMPLEMENTATION) Test the Model\n",
        "\n",
        "Try out your model on the test dataset of dog images.  Use the code cell below to calculate and print the test loss and accuracy.  Ensure that your test accuracy is greater than 10%."
      ]
    },
    {
      "metadata": {
        "colab_type": "code",
        "id": "LyJigAFXfE3x",
        "colab": {}
      },
      "cell_type": "code",
      "source": [
        "def test(loaders, model, criterion, use_cuda):\n",
        "\n",
        "    # monitor test loss and accuracy\n",
        "    test_loss = 0.\n",
        "    correct = 0.\n",
        "    total = 0.\n",
        "    \n",
        "    model.eval()\n",
        "    for batch_idx, (data, target) in enumerate(loaders['test_data']):\n",
        "        # move to GPU\n",
        "        if use_cuda:\n",
        "            data, target = data.cuda(), target.cuda()\n",
        "        # forward pass: compute predicted outputs by passing inputs to the model\n",
        "        output = model(data)\n",
        "        # calculate the loss\n",
        "        loss = criterion(output, target)\n",
        "        # update average test loss \n",
        "        test_loss = test_loss + ((1 / (batch_idx + 1)) * (loss.data - test_loss))\n",
        "        # convert output probabilities to predicted class\n",
        "        pred = output.data.max(1, keepdim=True)[1]\n",
        "        # compare predictions to true label\n",
        "        correct += np.sum(np.squeeze(pred.eq(target.data.view_as(pred))).cpu().numpy())\n",
        "        total += data.size(0)\n",
        "        \n",
        "    print('Test Loss: {:.6f}\\n'.format(test_loss))\n",
        "    \n",
        "    print('\\nTest Accuracy: %2d%% (%2d/%2d)' % (\n",
        "        100. * correct / total, correct, total))"
      ],
      "execution_count": 0,
      "outputs": []
    },
    {
      "metadata": {
        "id": "z0Bgjarc0wsE",
        "colab_type": "code",
        "colab": {}
      },
      "cell_type": "code",
      "source": [
        "# call test function    \n",
        "test(dataloaders, model_scratch, criterion_scratch, use_cuda)"
      ],
      "execution_count": 0,
      "outputs": []
    },
    {
      "metadata": {
        "colab_type": "text",
        "id": "8alCjw5sfE3z"
      },
      "cell_type": "markdown",
      "source": [
        "---\n",
        "<a id='step4'></a>\n",
        "## Step 4: Create a CNN to Classify Dog Breeds (using Transfer Learning)\n",
        "\n",
        "You will now use transfer learning to create a CNN that can identify dog breed from images.  Your CNN must attain at least 60% accuracy on the test set.\n",
        "\n",
        "### (IMPLEMENTATION) Specify Data Loaders for the Dog Dataset\n",
        "\n",
        "Use the code cell below to write three separate [data loaders](http://pytorch.org/docs/master/data.html#torch.utils.data.DataLoader) for the training, validation, and test datasets of dog images (located at `dogImages/train`, `dogImages/valid`, and `dogImages/test`, respectively). \n",
        "\n",
        "If you like, **you are welcome to use the same data loaders from the previous step**, when you created a CNN from scratch."
      ]
    },
    {
      "metadata": {
        "colab_type": "code",
        "id": "dUzelelFfE30",
        "colab": {}
      },
      "cell_type": "code",
      "source": [
        "## DONE: Specify data loaders\n",
        "# I have decided to use the same data loaders from the previous step.\n",
        "# Doing this way, I can compare results from my network from scratch\n",
        "# with the results from transfer learning."
      ],
      "execution_count": 0,
      "outputs": []
    },
    {
      "metadata": {
        "colab_type": "text",
        "id": "Y1Y5zKgGfE31"
      },
      "cell_type": "markdown",
      "source": [
        "### (IMPLEMENTATION) Model Architecture\n",
        "\n",
        "Use transfer learning to create a CNN to classify dog breed.  Use the code cell below, and save your initialized model as the variable `model_transfer`."
      ]
    },
    {
      "metadata": {
        "colab_type": "code",
        "id": "Fm8sSJ5NfE32",
        "colab": {
          "base_uri": "https://localhost:8080/",
          "height": 54
        },
        "outputId": "651928ba-43ff-4b50-8de0-88428dc277e2"
      },
      "cell_type": "code",
      "source": [
        "## DONE: Specify model architecture \n",
        "model_transfer = models.resnet18(pretrained=True)\n",
        "\n",
        "# do not track gradients for the model parameters\n",
        "for param in model_transfer.parameters():\n",
        "    param.requires_grad = False\n",
        "    \n",
        "fc_in_features = model_transfer.fc.in_features\n",
        "fc_out_classes = 133\n",
        "\n",
        "model_transfer.fc = nn.Linear(fc_in_features, fc_out_classes, bias=True)\n",
        "\n",
        "if use_cuda:\n",
        "    model_transfer = model_transfer.cuda()"
      ],
      "execution_count": 20,
      "outputs": [
        {
          "output_type": "stream",
          "text": [
            "Downloading: \"https://download.pytorch.org/models/resnet18-5c106cde.pth\" to /root/.torch/models/resnet18-5c106cde.pth\n",
            "46827520it [00:00, 67141348.20it/s]\n"
          ],
          "name": "stderr"
        }
      ]
    },
    {
      "metadata": {
        "colab_type": "text",
        "id": "FTFI2AOjfE33"
      },
      "cell_type": "markdown",
      "source": [
        "__Question 5:__ Outline the steps you took to get to your final CNN architecture and your reasoning at each step.  Describe why you think the architecture is suitable for the current problem."
      ]
    },
    {
      "metadata": {
        "colab_type": "text",
        "id": "GudXBH3vfE34"
      },
      "cell_type": "markdown",
      "source": [
        "__Answer:__ \n"
      ]
    },
    {
      "metadata": {
        "colab_type": "text",
        "id": "AhcuMdkPfE34"
      },
      "cell_type": "markdown",
      "source": [
        "### (IMPLEMENTATION) Specify Loss Function and Optimizer\n",
        "\n",
        "Use the next code cell to specify a [loss function](http://pytorch.org/docs/master/nn.html#loss-functions) and [optimizer](http://pytorch.org/docs/master/optim.html).  Save the chosen loss function as `criterion_transfer`, and the optimizer as `optimizer_transfer` below."
      ]
    },
    {
      "metadata": {
        "colab_type": "code",
        "id": "lVCe3nB7fE35",
        "colab": {}
      },
      "cell_type": "code",
      "source": [
        "### DONE: select loss function\n",
        "criterion_transfer = nn.CrossEntropyLoss()\n",
        "\n",
        "### DONE: select optimizer\n",
        "optimizer_transfer = optim.Adagrad(model_transfer.fc.parameters(), lr=0.01, weight_decay=0.001)\n",
        "\n",
        "scheduler_transfer = optim.lr_scheduler.ReduceLROnPlateau(\n",
        "    optimizer_transfer, mode='min', factor=0.1, patience=9, verbose=True,\n",
        "    threshold=0.01, threshold_mode='abs', cooldown=0, min_lr=0, eps=1e-08)"
      ],
      "execution_count": 0,
      "outputs": []
    },
    {
      "metadata": {
        "colab_type": "text",
        "id": "Y1yQJx8DfE36"
      },
      "cell_type": "markdown",
      "source": [
        "### (IMPLEMENTATION) Train and Validate the Model\n",
        "\n",
        "Train and validate your model in the code cell below.  [Save the final model parameters](http://pytorch.org/docs/master/notes/serialization.html) at filepath `'model_transfer.pt'`."
      ]
    },
    {
      "metadata": {
        "colab_type": "code",
        "id": "gIlonWzcfE37",
        "colab": {
          "base_uri": "https://localhost:8080/",
          "height": 981
        },
        "outputId": "bb9a4a9e-84d6-4f5d-9c0e-85a67c73d5b8"
      },
      "cell_type": "code",
      "source": [
        "# train the model\n",
        "checkpoint_path = gdrive_dir+'model_transfer.pt'\n",
        "\n",
        "model_transfer = train(30, dataloaders, model_transfer, optimizer_transfer,\n",
        "                       criterion_transfer, use_cuda, checkpoint_path, scheduler_transfer)"
      ],
      "execution_count": 25,
      "outputs": [
        {
          "output_type": "stream",
          "text": [
            "Epoch: 1 \tTraining Loss: 2.823350\n",
            "Epoch: 2 \tTraining Loss: 1.402133\n",
            "Epoch: 3 \tTraining Loss: 1.091160\n",
            "Epoch: 4 \tTraining Loss: 0.949012\n",
            "Epoch: 5 \tTraining Loss: 0.841665\n",
            "Epoch: 6 \tTraining Loss: 0.780065 \tValidation Loss: 0.743674\n",
            "\t\t\tValid loss decreasing: inf --> 0.743674 ... Saving model\n",
            "Epoch: 7 \tTraining Loss: 0.738289 \tValidation Loss: 0.709435\n",
            "\t\t\tValid loss decreasing: 0.743674 --> 0.709435 ... Saving model\n",
            "Epoch: 8 \tTraining Loss: 0.697862 \tValidation Loss: 0.696161\n",
            "\t\t\tValid loss decreasing: 0.709435 --> 0.696161 ... Saving model\n",
            "Epoch: 9 \tTraining Loss: 0.669452 \tValidation Loss: 0.661821\n",
            "\t\t\tValid loss decreasing: 0.696161 --> 0.661821 ... Saving model\n",
            "Epoch: 10 \tTraining Loss: 0.639148 \tValidation Loss: 0.645002\n",
            "\t\t\tValid loss decreasing: 0.661821 --> 0.645002 ... Saving model\n",
            "Epoch: 11 \tTraining Loss: 0.610692 \tValidation Loss: 0.635389\n",
            "\t\t\tValid loss decreasing: 0.645002 --> 0.635389 ... Saving model\n",
            "Epoch: 12 \tTraining Loss: 0.589524 \tValidation Loss: 0.618394\n",
            "\t\t\tValid loss decreasing: 0.635389 --> 0.618394 ... Saving model\n",
            "Epoch: 13 \tTraining Loss: 0.574587 \tValidation Loss: 0.615192\n",
            "\t\t\tValid loss decreasing: 0.618394 --> 0.615192 ... Saving model\n",
            "Epoch: 14 \tTraining Loss: 0.558687 \tValidation Loss: 0.605562\n",
            "\t\t\tValid loss decreasing: 0.615192 --> 0.605562 ... Saving model\n",
            "Epoch: 15 \tTraining Loss: 0.559411 \tValidation Loss: 0.599191\n",
            "\t\t\tValid loss decreasing: 0.605562 --> 0.599191 ... Saving model\n",
            "Epoch: 16 \tTraining Loss: 0.534671 \tValidation Loss: 0.590699\n",
            "\t\t\tValid loss decreasing: 0.599191 --> 0.590699 ... Saving model\n",
            "Epoch: 17 \tTraining Loss: 0.531443 \tValidation Loss: 0.586425\n",
            "\t\t\tValid loss decreasing: 0.590699 --> 0.586425 ... Saving model\n",
            "Epoch: 18 \tTraining Loss: 0.513041 \tValidation Loss: 0.576421\n",
            "\t\t\tValid loss decreasing: 0.586425 --> 0.576421 ... Saving model\n",
            "Epoch: 19 \tTraining Loss: 0.505073 \tValidation Loss: 0.568984\n",
            "\t\t\tValid loss decreasing: 0.576421 --> 0.568984 ... Saving model\n",
            "Epoch: 20 \tTraining Loss: 0.504304 \tValidation Loss: 0.565478\n",
            "\t\t\tValid loss decreasing: 0.568984 --> 0.565478 ... Saving model\n",
            "Epoch: 21 \tTraining Loss: 0.486445 \tValidation Loss: 0.562500\n",
            "\t\t\tValid loss decreasing: 0.565478 --> 0.562500 ... Saving model\n",
            "Epoch: 22 \tTraining Loss: 0.485753 \tValidation Loss: 0.558121\n",
            "\t\t\tValid loss decreasing: 0.562500 --> 0.558121 ... Saving model\n",
            "Epoch: 23 \tTraining Loss: 0.467217 \tValidation Loss: 0.552376\n",
            "\t\t\tValid loss decreasing: 0.558121 --> 0.552376 ... Saving model\n",
            "Epoch: 24 \tTraining Loss: 0.468080 \tValidation Loss: 0.554544\n",
            "Epoch: 25 \tTraining Loss: 0.467058 \tValidation Loss: 0.547678\n",
            "\t\t\tValid loss decreasing: 0.552376 --> 0.547678 ... Saving model\n",
            "Epoch: 26 \tTraining Loss: 0.456758 \tValidation Loss: 0.547771\n",
            "Epoch: 27 \tTraining Loss: 0.442504 \tValidation Loss: 0.543961\n",
            "\t\t\tValid loss decreasing: 0.547678 --> 0.543961 ... Saving model\n",
            "Epoch: 28 \tTraining Loss: 0.450551 \tValidation Loss: 0.542391\n",
            "\t\t\tValid loss decreasing: 0.543961 --> 0.542391 ... Saving model\n",
            "Epoch: 29 \tTraining Loss: 0.443552 \tValidation Loss: 0.542384\n",
            "\t\t\tValid loss decreasing: 0.542391 --> 0.542384 ... Saving model\n",
            "Epoch: 30 \tTraining Loss: 0.435893 \tValidation Loss: 0.537826\n",
            "\t\t\tValid loss decreasing: 0.542384 --> 0.537826 ... Saving model\n"
          ],
          "name": "stdout"
        }
      ]
    },
    {
      "metadata": {
        "id": "NZ2wysMINIMQ",
        "colab_type": "code",
        "colab": {
          "base_uri": "https://localhost:8080/",
          "height": 35
        },
        "outputId": "24e0f4c4-2fe3-48b5-bdd5-eea30cae97d0"
      },
      "cell_type": "code",
      "source": [
        "# load the model that got the best validation accuracy (uncomment the line below)\n",
        "\n",
        "checkpoint = torch.load(checkpoint_path)\n",
        "\n",
        "print('Loading trained model ...\\tTraining Loss: {}\\t Valid Loss: {}'.format(\n",
        "        checkpoint['valid_loss_min'], checkpoint['train_loss'] ))\n",
        "\n",
        "model_transfer.load_state_dict(checkpoint['model_state_dict'])\n",
        "optimizer_transfer.load_state_dict(checkpoint['optimizer_state_dict'])"
      ],
      "execution_count": 26,
      "outputs": [
        {
          "output_type": "stream",
          "text": [
            "Loading trained model ...\tTraining Loss: 0.5423839867115021\t Valid Loss: 0.435893166065216\n"
          ],
          "name": "stdout"
        }
      ]
    },
    {
      "metadata": {
        "colab_type": "text",
        "id": "4i16-XLufE38"
      },
      "cell_type": "markdown",
      "source": [
        "### (IMPLEMENTATION) Test the Model\n",
        "\n",
        "Try out your model on the test dataset of dog images. Use the code cell below to calculate and print the test loss and accuracy.  Ensure that your test accuracy is greater than 60%."
      ]
    },
    {
      "metadata": {
        "colab_type": "code",
        "id": "bQqo1l9gfE39",
        "colab": {
          "base_uri": "https://localhost:8080/",
          "height": 90
        },
        "outputId": "c60a468f-638f-4aec-9ffe-8173d1ffa167"
      },
      "cell_type": "code",
      "source": [
        "test(dataloaders, model_transfer, criterion_transfer, use_cuda)"
      ],
      "execution_count": 30,
      "outputs": [
        {
          "output_type": "stream",
          "text": [
            "Test Loss: 0.578894\n",
            "\n",
            "\n",
            "Test Accuracy: 83% (700/836)\n"
          ],
          "name": "stdout"
        }
      ]
    },
    {
      "metadata": {
        "colab_type": "text",
        "id": "A_OyTBkzfE3_"
      },
      "cell_type": "markdown",
      "source": [
        "### (IMPLEMENTATION) Predict Dog Breed with the Model\n",
        "\n",
        "Write a function that takes an image path as input and returns the dog breed (`Affenpinscher`, `Afghan hound`, etc) that is predicted by your model.  "
      ]
    },
    {
      "metadata": {
        "colab_type": "code",
        "id": "o62z7aYqfE4A",
        "colab": {}
      },
      "cell_type": "code",
      "source": [
        "### TODO: Write a function that takes a path to an image as input\n",
        "### and returns the dog breed that is predicted by the model.\n",
        "\n",
        "# list of class names by index, i.e. a name can be accessed like class_names[0]\n",
        "class_names = [item[4:].replace(\"_\", \" \") for item in data_transfer['train'].classes]\n",
        "\n",
        "def predict_breed_transfer(img_path):\n",
        "    # load the image and return the predicted breed\n",
        "    return None"
      ],
      "execution_count": 0,
      "outputs": []
    },
    {
      "metadata": {
        "colab_type": "text",
        "id": "XbPL650pfE4D"
      },
      "cell_type": "markdown",
      "source": [
        "---\n",
        "<a id='step5'></a>\n",
        "## Step 5: Write your Algorithm\n",
        "\n",
        "Write an algorithm that accepts a file path to an image and first determines whether the image contains a human, dog, or neither.  Then,\n",
        "- if a __dog__ is detected in the image, return the predicted breed.\n",
        "- if a __human__ is detected in the image, return the resembling dog breed.\n",
        "- if __neither__ is detected in the image, provide output that indicates an error.\n",
        "\n",
        "You are welcome to write your own functions for detecting humans and dogs in images, but feel free to use the `face_detector` and `human_detector` functions developed above.  You are __required__ to use your CNN from Step 4 to predict dog breed.  \n",
        "\n",
        "Some sample output for our algorithm is provided below, but feel free to design your own user experience!\n",
        "\n",
        "![Sample Human Output](https://github.com/silviomori/udacity-deeplearning-nanodegree-fork/blob/silviomori-project-dog-classification/project-dog-classification/images/sample_human_output.png?raw=1)\n",
        "\n",
        "\n",
        "### (IMPLEMENTATION) Write your Algorithm"
      ]
    },
    {
      "metadata": {
        "colab_type": "code",
        "id": "7BBey9KHfE4E",
        "colab": {}
      },
      "cell_type": "code",
      "source": [
        "### TODO: Write your algorithm.\n",
        "### Feel free to use as many code cells as needed.\n",
        "\n",
        "def run_app(img_path):\n",
        "    ## handle cases for a human face, dog, and neither\n",
        "    \n"
      ],
      "execution_count": 0,
      "outputs": []
    },
    {
      "metadata": {
        "colab_type": "text",
        "id": "AmrphjfWfE4G"
      },
      "cell_type": "markdown",
      "source": [
        "---\n",
        "<a id='step6'></a>\n",
        "## Step 6: Test Your Algorithm\n",
        "\n",
        "In this section, you will take your new algorithm for a spin!  What kind of dog does the algorithm think that _you_ look like?  If you have a dog, does it predict your dog's breed accurately?  If you have a cat, does it mistakenly think that your cat is a dog?\n",
        "\n",
        "### (IMPLEMENTATION) Test Your Algorithm on Sample Images!\n",
        "\n",
        "Test your algorithm at least six images on your computer.  Feel free to use any images you like.  Use at least two human and two dog images.  \n",
        "\n",
        "__Question 6:__ Is the output better than you expected :) ?  Or worse :( ?  Provide at least three possible points of improvement for your algorithm."
      ]
    },
    {
      "metadata": {
        "colab_type": "text",
        "id": "sAHFE-_4fE4H"
      },
      "cell_type": "markdown",
      "source": [
        "__Answer:__ (Three possible points for improvement)"
      ]
    },
    {
      "metadata": {
        "colab_type": "code",
        "id": "oEDtdDsPfE4H",
        "colab": {}
      },
      "cell_type": "code",
      "source": [
        "## TODO: Execute your algorithm from Step 6 on\n",
        "## at least 6 images on your computer.\n",
        "## Feel free to use as many code cells as needed.\n",
        "\n",
        "## suggested code, below\n",
        "for file in np.hstack((human_files[:3], dog_files[:3])):\n",
        "    run_app(file)"
      ],
      "execution_count": 0,
      "outputs": []
    }
  ]
}