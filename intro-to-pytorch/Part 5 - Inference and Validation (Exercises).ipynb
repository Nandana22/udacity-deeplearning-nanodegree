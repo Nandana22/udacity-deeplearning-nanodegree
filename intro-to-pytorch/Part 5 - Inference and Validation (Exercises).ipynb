{
 "cells": [
  {
   "cell_type": "markdown",
   "metadata": {},
   "source": [
    "# Inference and Validation\n",
    "\n",
    "Now that you have a trained network, you can use it for making predictions. This is typically called **inference**, a term borrowed from statistics. However, neural networks have a tendency to perform *too well* on the training data and aren't able to generalize to data that hasn't been seen before. This is called **overfitting** and it impairs inference performance. To test for overfitting while training, we measure the performance on data not in the training set called the **validation** set. We avoid overfitting through regularization such as dropout while monitoring the validation performance during training. In this notebook, I'll show you how to do this in PyTorch. \n",
    "\n",
    "As usual, let's start by loading the dataset through torchvision. You'll learn more about torchvision and loading data in a later part. This time we'll be taking advantage of the test set which you can get by setting `train=False` here:\n",
    "\n",
    "```python\n",
    "testset = datasets.FashionMNIST('~/.pytorch/F_MNIST_data/', download=True, train=False, transform=transform)\n",
    "```\n",
    "\n",
    "The test set contains images just like the training set. Typically you'll see 10-20% of the original dataset held out for testing and validation with the rest being used for training."
   ]
  },
  {
   "cell_type": "code",
   "execution_count": 1,
   "metadata": {},
   "outputs": [],
   "source": [
    "import torch\n",
    "from torchvision import datasets, transforms\n",
    "\n",
    "# Define a transform to normalize the data\n",
    "transform = transforms.Compose([transforms.ToTensor(),\n",
    "                                transforms.Normalize((0.5, 0.5, 0.5), (0.5, 0.5, 0.5))])\n",
    "# Download and load the training data\n",
    "trainset = datasets.FashionMNIST('~/.pytorch/F_MNIST_data/', download=True, train=True, transform=transform)\n",
    "trainloader = torch.utils.data.DataLoader(trainset, batch_size=64, shuffle=True)\n",
    "\n",
    "# Download and load the test data\n",
    "testset = datasets.FashionMNIST('~/.pytorch/F_MNIST_data/', download=True, train=False, transform=transform)\n",
    "testloader = torch.utils.data.DataLoader(testset, batch_size=64, shuffle=True)"
   ]
  },
  {
   "cell_type": "markdown",
   "metadata": {},
   "source": [
    "Here I'll create a model like normal, using the same one from my solution for part 4."
   ]
  },
  {
   "cell_type": "code",
   "execution_count": 2,
   "metadata": {},
   "outputs": [],
   "source": [
    "from torch import nn, optim\n",
    "import torch.nn.functional as F\n",
    "\n",
    "class Classifier(nn.Module):\n",
    "    def __init__(self):\n",
    "        super().__init__()\n",
    "        self.fc1 = nn.Linear(784, 256)\n",
    "        self.fc2 = nn.Linear(256, 128)\n",
    "        self.fc3 = nn.Linear(128, 64)\n",
    "        self.fc4 = nn.Linear(64, 10)\n",
    "        \n",
    "    def forward(self, x):\n",
    "        # make sure input tensor is flattened\n",
    "        x = x.view(x.shape[0], -1)\n",
    "        \n",
    "        x = F.relu(self.fc1(x))\n",
    "        x = F.relu(self.fc2(x))\n",
    "        x = F.relu(self.fc3(x))\n",
    "        x = F.log_softmax(self.fc4(x), dim=1)\n",
    "        \n",
    "        return x"
   ]
  },
  {
   "cell_type": "markdown",
   "metadata": {},
   "source": [
    "The goal of validation is to measure the model's performance on data that isn't part of the training set. Performance here is up to the developer to define though. Typically this is just accuracy, the percentage of classes the network predicted correctly. Other options are [precision and recall](https://en.wikipedia.org/wiki/Precision_and_recall#Definition_(classification_context)) and top-5 error rate. We'll focus on accuracy here. First I'll do a forward pass with one batch from the test set."
   ]
  },
  {
   "cell_type": "code",
   "execution_count": 3,
   "metadata": {},
   "outputs": [
    {
     "name": "stdout",
     "output_type": "stream",
     "text": [
      "torch.Size([64, 10])\n"
     ]
    }
   ],
   "source": [
    "model = Classifier()\n",
    "\n",
    "images, labels = next(iter(testloader))\n",
    "# Get the class probabilities\n",
    "ps = torch.exp(model(images))\n",
    "# Make sure the shape is appropriate, we should get 10 class probabilities for 64 examples\n",
    "print(ps.shape)"
   ]
  },
  {
   "cell_type": "markdown",
   "metadata": {},
   "source": [
    "With the probabilities, we can get the most likely class using the `ps.topk` method. This returns the $k$ highest values. Since we just want the most likely class, we can use `ps.topk(1)`. This returns a tuple of the top-$k$ values and the top-$k$ indices. If the highest value is the fifth element, we'll get back 4 as the index."
   ]
  },
  {
   "cell_type": "code",
   "execution_count": 4,
   "metadata": {},
   "outputs": [
    {
     "name": "stdout",
     "output_type": "stream",
     "text": [
      "tensor([[7],\n",
      "        [7],\n",
      "        [7],\n",
      "        [7],\n",
      "        [7],\n",
      "        [7],\n",
      "        [7],\n",
      "        [7],\n",
      "        [0],\n",
      "        [7]])\n"
     ]
    }
   ],
   "source": [
    "top_p, top_class = ps.topk(1, dim=1)\n",
    "# Look at the most likely classes for the first 10 examples\n",
    "print(top_class[:10,:])"
   ]
  },
  {
   "cell_type": "markdown",
   "metadata": {},
   "source": [
    "Now we can check if the predicted classes match the labels. This is simple to do by equating `top_class` and `labels`, but we have to be careful of the shapes. Here `top_class` is a 2D tensor with shape `(64, 1)` while `labels` is 1D with shape `(64)`. To get the equality to work out the way we want, `top_class` and `labels` must have the same shape.\n",
    "\n",
    "If we do\n",
    "\n",
    "```python\n",
    "equals = top_class == labels\n",
    "```\n",
    "\n",
    "`equals` will have shape `(64, 64)`, try it yourself. What it's doing is comparing the one element in each row of `top_class` with each element in `labels` which returns 64 True/False boolean values for each row."
   ]
  },
  {
   "cell_type": "code",
   "execution_count": 5,
   "metadata": {},
   "outputs": [],
   "source": [
    "equals = top_class == labels.view(*top_class.shape)"
   ]
  },
  {
   "cell_type": "markdown",
   "metadata": {},
   "source": [
    "Now we need to calculate the percentage of correct predictions. `equals` has binary values, either 0 or 1. This means that if we just sum up all the values and divide by the number of values, we get the percentage of correct predictions. This is the same operation as taking the mean, so we can get the accuracy with a call to `torch.mean`. If only it was that simple. If you try `torch.mean(equals)`, you'll get an error\n",
    "\n",
    "```\n",
    "RuntimeError: mean is not implemented for type torch.ByteTensor\n",
    "```\n",
    "\n",
    "This happens because `equals` has type `torch.ByteTensor` but `torch.mean` isn't implemented for tensors with that type. So we'll need to convert `equals` to a float tensor. Note that when we take `torch.mean` it returns a scalar tensor, to get the actual value as a float we'll need to do `accuracy.item()`."
   ]
  },
  {
   "cell_type": "code",
   "execution_count": 6,
   "metadata": {},
   "outputs": [
    {
     "name": "stdout",
     "output_type": "stream",
     "text": [
      "Accuracy: 4.6875%\n"
     ]
    }
   ],
   "source": [
    "accuracy = torch.mean(equals.type(torch.FloatTensor))\n",
    "print(f'Accuracy: {accuracy.item()*100}%')"
   ]
  },
  {
   "cell_type": "markdown",
   "metadata": {},
   "source": [
    "The network is untrained so it's making random guesses and we should see an accuracy around 10%. Now let's train our network and include our validation pass so we can measure how well the network is performing on the test set. Since we're not updating our parameters in the validation pass, we can speed up our code by turning off gradients using `torch.no_grad()`:\n",
    "\n",
    "```python\n",
    "# turn off gradients\n",
    "with torch.no_grad():\n",
    "    # validation pass here\n",
    "    for images, labels in testloader:\n",
    "        ...\n",
    "```\n",
    "\n",
    ">**Exercise:** Implement the validation loop below and print out the total accuracy after the loop. You can largely copy and paste the code from above, but I suggest typing it in because writing it out yourself is essential for building the skill. In general you'll always learn more by typing it rather than copy-pasting. You should be able to get an accuracy above 80%."
   ]
  },
  {
   "cell_type": "code",
   "execution_count": 7,
   "metadata": {},
   "outputs": [
    {
     "name": "stdout",
     "output_type": "stream",
     "text": [
      "Epoch: 1/30\tTraining loss: 0.5131\tTest loss: 0.4630\tAccuracy: 83.68%\n",
      "Epoch: 2/30\tTraining loss: 0.3912\tTest loss: 0.4079\tAccuracy: 85.09%\n",
      "Epoch: 3/30\tTraining loss: 0.3558\tTest loss: 0.4136\tAccuracy: 85.52%\n",
      "Epoch: 4/30\tTraining loss: 0.3323\tTest loss: 0.3884\tAccuracy: 86.19%\n",
      "Epoch: 5/30\tTraining loss: 0.3157\tTest loss: 0.3706\tAccuracy: 86.80%\n",
      "Epoch: 6/30\tTraining loss: 0.2998\tTest loss: 0.3704\tAccuracy: 87.42%\n",
      "Epoch: 7/30\tTraining loss: 0.2936\tTest loss: 0.3983\tAccuracy: 86.64%\n",
      "Epoch: 8/30\tTraining loss: 0.2811\tTest loss: 0.3859\tAccuracy: 86.71%\n",
      "Epoch: 9/30\tTraining loss: 0.2750\tTest loss: 0.3390\tAccuracy: 88.04%\n",
      "Epoch: 10/30\tTraining loss: 0.2640\tTest loss: 0.3761\tAccuracy: 87.39%\n",
      "Epoch: 11/30\tTraining loss: 0.2575\tTest loss: 0.3728\tAccuracy: 86.64%\n",
      "Epoch: 12/30\tTraining loss: 0.2503\tTest loss: 0.3671\tAccuracy: 87.94%\n",
      "Epoch: 13/30\tTraining loss: 0.2471\tTest loss: 0.3677\tAccuracy: 87.77%\n",
      "Epoch: 14/30\tTraining loss: 0.2406\tTest loss: 0.3591\tAccuracy: 87.71%\n",
      "Epoch: 15/30\tTraining loss: 0.2376\tTest loss: 0.3773\tAccuracy: 88.12%\n",
      "Epoch: 16/30\tTraining loss: 0.2329\tTest loss: 0.3838\tAccuracy: 87.06%\n",
      "Epoch: 17/30\tTraining loss: 0.2274\tTest loss: 0.3653\tAccuracy: 88.12%\n",
      "Epoch: 18/30\tTraining loss: 0.2265\tTest loss: 0.3855\tAccuracy: 88.07%\n",
      "Epoch: 19/30\tTraining loss: 0.2138\tTest loss: 0.3821\tAccuracy: 87.64%\n",
      "Epoch: 20/30\tTraining loss: 0.2177\tTest loss: 0.3969\tAccuracy: 87.98%\n",
      "Epoch: 21/30\tTraining loss: 0.2088\tTest loss: 0.3806\tAccuracy: 88.16%\n",
      "Epoch: 22/30\tTraining loss: 0.2092\tTest loss: 0.3848\tAccuracy: 88.64%\n",
      "Epoch: 23/30\tTraining loss: 0.2074\tTest loss: 0.3810\tAccuracy: 88.49%\n",
      "Epoch: 24/30\tTraining loss: 0.1957\tTest loss: 0.4077\tAccuracy: 88.04%\n",
      "Epoch: 25/30\tTraining loss: 0.1968\tTest loss: 0.4097\tAccuracy: 88.38%\n",
      "Epoch: 26/30\tTraining loss: 0.1922\tTest loss: 0.4138\tAccuracy: 87.92%\n",
      "Epoch: 27/30\tTraining loss: 0.1912\tTest loss: 0.4330\tAccuracy: 87.60%\n",
      "Epoch: 28/30\tTraining loss: 0.1920\tTest loss: 0.3866\tAccuracy: 88.44%\n",
      "Epoch: 29/30\tTraining loss: 0.1921\tTest loss: 0.4004\tAccuracy: 88.44%\n",
      "Epoch: 30/30\tTraining loss: 0.1837\tTest loss: 0.4076\tAccuracy: 88.37%\n"
     ]
    }
   ],
   "source": [
    "model = Classifier()\n",
    "criterion = nn.NLLLoss()\n",
    "optimizer = optim.Adam(model.parameters(), lr=0.003)\n",
    "\n",
    "epochs = 30\n",
    "steps = 0\n",
    "\n",
    "train_losses, test_losses = [], []\n",
    "for e in range(epochs):\n",
    "    running_loss = 0\n",
    "    for images, labels in trainloader:\n",
    "        \n",
    "        optimizer.zero_grad()\n",
    "        \n",
    "        log_ps = model(images)\n",
    "        loss = criterion(log_ps, labels)\n",
    "        loss.backward()\n",
    "        optimizer.step()\n",
    "        \n",
    "        running_loss += loss.item()\n",
    "        \n",
    "    else:\n",
    "        ## DONE: Implement the validation pass and print out the validation accuracy\n",
    "        # turn off gradients\n",
    "        with torch.no_grad():\n",
    "            testing_loss = 0\n",
    "            accuracy = 0\n",
    "            for images, labels in testloader:\n",
    "                # Make inferences\n",
    "                log_ps = model(images)\n",
    "                \n",
    "                # Calculate the loss\n",
    "                loss = criterion(log_ps, labels)\n",
    "                testing_loss += loss.item()\n",
    "                \n",
    "                # Get the most likely classes\n",
    "                top_p, top_class = log_ps.topk(1, dim = 1)\n",
    "                \n",
    "                # Calculate the accuracy\n",
    "                equals = top_class == labels.view(*top_class.shape)\n",
    "                accuracy += torch.sum(equals.type(torch.FloatTensor))\n",
    "            else:\n",
    "                running_loss /= len(trainloader)\n",
    "                testing_loss /= len(testloader)\n",
    "                accuracy /= len(testloader.dataset)\n",
    "                \n",
    "                print(f'Epoch: {e+1}/{epochs}\\t' +\n",
    "                      f'Training loss: {running_loss:.4f}\\t' +\n",
    "                      f'Test loss: {testing_loss:.4f}\\t' +\n",
    "                      f'Accuracy: {accuracy.item()*100:.2f}%')"
   ]
  },
  {
   "cell_type": "markdown",
   "metadata": {},
   "source": [
    "## Overfitting\n",
    "\n",
    "If we look at the training and validation losses as we train the network, we can see a phenomenon known as overfitting.\n",
    "\n",
    "<img src='assets/overfitting.png' width=450px>\n",
    "\n",
    "The network learns the training set better and better, resulting in lower training losses. However, it starts having problems generalizing to data outside the training set leading to the validation loss increasing. The ultimate goal of any deep learning model is to make predictions on new data, so we should strive to get the lowest validation loss possible. One option is to use the version of the model with the lowest validation loss, here the one around 8-10 training epochs. This strategy is called *early-stopping*. In practice, you'd save the model frequently as you're training then later choose the model with the lowest validation loss.\n",
    "\n",
    "The most common method to reduce overfitting (outside of early-stopping) is *dropout*, where we randomly drop input units. This forces the network to share information between weights, increasing it's ability to generalize to new data. Adding dropout in PyTorch is straightforward using the [`nn.Dropout`](https://pytorch.org/docs/stable/nn.html#torch.nn.Dropout) module.\n",
    "\n",
    "```python\n",
    "class Classifier(nn.Module):\n",
    "    def __init__(self):\n",
    "        super().__init__()\n",
    "        self.fc1 = nn.Linear(784, 256)\n",
    "        self.fc2 = nn.Linear(256, 128)\n",
    "        self.fc3 = nn.Linear(128, 64)\n",
    "        self.fc4 = nn.Linear(64, 10)\n",
    "        \n",
    "        # Dropout module with 0.2 drop probability\n",
    "        self.dropout = nn.Dropout(p=0.2)\n",
    "        \n",
    "    def forward(self, x):\n",
    "        # make sure input tensor is flattened\n",
    "        x = x.view(x.shape[0], -1)\n",
    "        \n",
    "        # Now with dropout\n",
    "        x = self.dropout(F.relu(self.fc1(x)))\n",
    "        x = self.dropout(F.relu(self.fc2(x)))\n",
    "        x = self.dropout(F.relu(self.fc3(x)))\n",
    "        \n",
    "        # output so no dropout here\n",
    "        x = F.log_softmax(self.fc4(x), dim=1)\n",
    "        \n",
    "        return x\n",
    "```\n",
    "\n",
    "During training we want to use dropout to prevent overfitting, but during inference we want to use the entire network. So, we need to turn off dropout during validation, testing, and whenever we're using the network to make predictions. To do this, you use `model.eval()`. This sets the model to evaluation mode where the dropout probability is 0. You can turn dropout back on by setting the model to train mode with `model.train()`. In general, the pattern for the validation loop will look like this, where you turn off gradients, set the model to evaluation mode, calculate the validation loss and metric, then set the model back to train mode.\n",
    "\n",
    "```python\n",
    "# turn off gradients\n",
    "with torch.no_grad():\n",
    "    \n",
    "    # set model to evaluation mode\n",
    "    model.eval()\n",
    "    \n",
    "    # validation pass here\n",
    "    for images, labels in testloader:\n",
    "        ...\n",
    "\n",
    "# set model back to train mode\n",
    "model.train()\n",
    "```"
   ]
  },
  {
   "cell_type": "markdown",
   "metadata": {},
   "source": [
    "> **Exercise:** Add dropout to your model and train it on Fashion-MNIST again. See if you can get a lower validation loss or higher accuracy."
   ]
  },
  {
   "cell_type": "code",
   "execution_count": 8,
   "metadata": {},
   "outputs": [],
   "source": [
    "## DONE: Define your model with dropout added\n",
    "class Classifier(nn.Module):\n",
    "    def __init__(self):\n",
    "        super().__init__()\n",
    "        self.fc1 = nn.Linear(784, 256)\n",
    "        self.fc2 = nn.Linear(256, 128)\n",
    "        self.fc3 = nn.Linear(128, 64)\n",
    "        self.fc4 = nn.Linear(64, 10)\n",
    "        \n",
    "        self.dropout = nn.Dropout(0.2)\n",
    "        \n",
    "    def forward(self, x):\n",
    "        # make sure input tensor is flattened\n",
    "        x = x.view(x.shape[0], -1)\n",
    "        \n",
    "        x = F.relu(self.fc1(x))\n",
    "        x = self.dropout(x)\n",
    "        x = F.relu(self.fc2(x))\n",
    "        x = self.dropout(x)\n",
    "        x = F.relu(self.fc3(x))\n",
    "        x = self.dropout(x)\n",
    "        x = F.log_softmax(self.fc4(x), dim=1)\n",
    "        \n",
    "        return x"
   ]
  },
  {
   "cell_type": "code",
   "execution_count": 9,
   "metadata": {},
   "outputs": [
    {
     "name": "stdout",
     "output_type": "stream",
     "text": [
      "Epoch: 1/30\tTraining loss: 0.6051\tTest loss: 0.4691\tAccuracy: 82.34%\n",
      "Epoch: 2/30\tTraining loss: 0.4855\tTest loss: 0.4395\tAccuracy: 84.21%\n",
      "Epoch: 3/30\tTraining loss: 0.4519\tTest loss: 0.4321\tAccuracy: 84.21%\n",
      "Epoch: 4/30\tTraining loss: 0.4302\tTest loss: 0.4183\tAccuracy: 85.16%\n",
      "Epoch: 5/30\tTraining loss: 0.4222\tTest loss: 0.3957\tAccuracy: 85.60%\n",
      "Epoch: 6/30\tTraining loss: 0.4121\tTest loss: 0.4028\tAccuracy: 85.86%\n",
      "Epoch: 7/30\tTraining loss: 0.4049\tTest loss: 0.4321\tAccuracy: 84.86%\n",
      "Epoch: 8/30\tTraining loss: 0.4017\tTest loss: 0.4023\tAccuracy: 86.16%\n",
      "Epoch: 9/30\tTraining loss: 0.3852\tTest loss: 0.3881\tAccuracy: 86.66%\n",
      "Epoch: 10/30\tTraining loss: 0.3862\tTest loss: 0.4043\tAccuracy: 86.00%\n",
      "Epoch: 11/30\tTraining loss: 0.3813\tTest loss: 0.3942\tAccuracy: 85.98%\n",
      "Epoch: 12/30\tTraining loss: 0.3769\tTest loss: 0.3796\tAccuracy: 86.80%\n",
      "Epoch: 13/30\tTraining loss: 0.3766\tTest loss: 0.3889\tAccuracy: 86.72%\n",
      "Epoch: 14/30\tTraining loss: 0.3691\tTest loss: 0.3755\tAccuracy: 87.14%\n",
      "Epoch: 15/30\tTraining loss: 0.3689\tTest loss: 0.3790\tAccuracy: 86.75%\n",
      "Epoch: 16/30\tTraining loss: 0.3596\tTest loss: 0.3866\tAccuracy: 87.02%\n",
      "Epoch: 17/30\tTraining loss: 0.3732\tTest loss: 0.4038\tAccuracy: 86.31%\n",
      "Epoch: 18/30\tTraining loss: 0.3638\tTest loss: 0.3810\tAccuracy: 86.74%\n",
      "Epoch: 19/30\tTraining loss: 0.3590\tTest loss: 0.3753\tAccuracy: 86.69%\n",
      "Epoch: 20/30\tTraining loss: 0.3600\tTest loss: 0.3719\tAccuracy: 86.98%\n",
      "Epoch: 21/30\tTraining loss: 0.3493\tTest loss: 0.3779\tAccuracy: 86.84%\n",
      "Epoch: 22/30\tTraining loss: 0.3516\tTest loss: 0.3825\tAccuracy: 86.57%\n",
      "Epoch: 23/30\tTraining loss: 0.3570\tTest loss: 0.3931\tAccuracy: 86.67%\n",
      "Epoch: 24/30\tTraining loss: 0.3554\tTest loss: 0.3798\tAccuracy: 87.04%\n",
      "Epoch: 25/30\tTraining loss: 0.3478\tTest loss: 0.3642\tAccuracy: 87.48%\n",
      "Epoch: 26/30\tTraining loss: 0.3486\tTest loss: 0.3751\tAccuracy: 87.15%\n",
      "Epoch: 27/30\tTraining loss: 0.3471\tTest loss: 0.3620\tAccuracy: 87.63%\n",
      "Epoch: 28/30\tTraining loss: 0.3371\tTest loss: 0.3676\tAccuracy: 87.43%\n",
      "Epoch: 29/30\tTraining loss: 0.3426\tTest loss: 0.3743\tAccuracy: 87.42%\n",
      "Epoch: 30/30\tTraining loss: 0.3464\tTest loss: 0.3797\tAccuracy: 87.83%\n"
     ]
    }
   ],
   "source": [
    "## DONE: Train your model with dropout, and monitor the training progress with the validation loss and accuracy\n",
    "\n",
    "model = Classifier()\n",
    "criterion = nn.NLLLoss()\n",
    "optimizer = optim.Adam(model.parameters(), lr=0.003)\n",
    "\n",
    "epochs = 30\n",
    "steps = 0\n",
    "\n",
    "train_losses, test_losses = [], []\n",
    "for e in range(epochs):\n",
    "    # Set model to train mode\n",
    "    model.train()\n",
    "    running_loss = 0\n",
    "    for images, labels in trainloader:\n",
    "        \n",
    "        optimizer.zero_grad()\n",
    "        \n",
    "        log_ps = model(images)\n",
    "        loss = criterion(log_ps, labels)\n",
    "        loss.backward()\n",
    "        optimizer.step()\n",
    "        \n",
    "        running_loss += loss.item()\n",
    "        \n",
    "    else:\n",
    "        ## DONE: Implement the validation pass and print out the validation accuracy\n",
    "        # Set model to evaluation mode\n",
    "        model.eval()\n",
    "        # turn off gradients\n",
    "        with torch.no_grad():\n",
    "            testing_loss = 0\n",
    "            accuracy = 0\n",
    "            for images, labels in testloader:\n",
    "                # Make inferences\n",
    "                log_ps = model(images)\n",
    "                \n",
    "                # Calculate the loss\n",
    "                loss = criterion(log_ps, labels)\n",
    "                testing_loss += loss.item()\n",
    "                \n",
    "                # Get the most likely classes\n",
    "                top_p, top_class = log_ps.topk(1, dim = 1)\n",
    "                \n",
    "                # Calculate the accuracy\n",
    "                equals = top_class == labels.view(*top_class.shape)\n",
    "                accuracy += torch.sum(equals.type(torch.FloatTensor))\n",
    "            else:\n",
    "                running_loss /= len(trainloader)\n",
    "                testing_loss /= len(testloader)\n",
    "                accuracy /= len(testloader.dataset)\n",
    "                \n",
    "                print(f'Epoch: {e+1}/{epochs}\\t' +\n",
    "                      f'Training loss: {running_loss:.4f}\\t' +\n",
    "                      f'Test loss: {testing_loss:.4f}\\t' +\n",
    "                      f'Accuracy: {accuracy.item()*100:.2f}%')"
   ]
  },
  {
   "cell_type": "markdown",
   "metadata": {},
   "source": [
    "## Inference\n",
    "\n",
    "Now that the model is trained, we can use it for inference. We've done this before, but now we need to remember to set the model in inference mode with `model.eval()`. You'll also want to turn off autograd with the `torch.no_grad()` context."
   ]
  },
  {
   "cell_type": "code",
   "execution_count": 10,
   "metadata": {},
   "outputs": [
    {
     "data": {
      "image/png": "[encoded data removed]",
      "text/plain": [
       "<Figure size 432x648 with 2 Axes>"
      ]
     },
     "metadata": {
      "needs_background": "light"
     },
     "output_type": "display_data"
    }
   ],
   "source": [
    "# Import helper module (should be in the repo)\n",
    "import helper\n",
    "\n",
    "# Test out your network!\n",
    "\n",
    "model.eval()\n",
    "\n",
    "dataiter = iter(testloader)\n",
    "images, labels = dataiter.next()\n",
    "img = images[0]\n",
    "# Convert 2D image to 1D vector\n",
    "img = img.view(1, 784)\n",
    "\n",
    "# Calculate the class probabilities (softmax) for img\n",
    "with torch.no_grad():\n",
    "    output = model.forward(img)\n",
    "\n",
    "ps = torch.exp(output)\n",
    "\n",
    "# Plot the image and probabilities\n",
    "helper.view_classify(img.view(1, 28, 28), ps, version='Fashion')"
   ]
  },
  {
   "cell_type": "markdown",
   "metadata": {},
   "source": [
    "## Next Up!\n",
    "\n",
    "In the next part, I'll show you how to save your trained models. In general, you won't want to train a model everytime you need it. Instead, you'll train once, save it, then load the model when you want to train more or use if for inference."
   ]
  }
 ],
 "metadata": {
  "kernelspec": {
   "display_name": "Python 3",
   "language": "python",
   "name": "python3"
  },
  "language_info": {
   "codemirror_mode": {
    "name": "ipython",
    "version": 3
   },
   "file_extension": ".py",
   "mimetype": "text/x-python",
   "name": "python",
   "nbconvert_exporter": "python",
   "pygments_lexer": "ipython3",
   "version": "3.7.1"
  }
 },
 "nbformat": 4,
 "nbformat_minor": 2
}
